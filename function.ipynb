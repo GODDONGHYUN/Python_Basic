{
 "cells": [
  {
   "cell_type": "code",
   "execution_count": 2,
   "metadata": {},
   "outputs": [],
   "source": [
    "# 함수  : 실행할 코드를 미리 지정해 두는 것\n",
    "# def 함수명 (매개변수[,...]):\n",
    "#           실행문\n",
    "#           return 결과"
   ]
  },
  {
   "cell_type": "code",
   "execution_count": 3,
   "metadata": {},
   "outputs": [],
   "source": [
    "# 짝수가 입력되면 짝수라는 문자열을 , 홀수가 입력되면 홀수라는 문자열을 반환하는 함수를 만든다."
   ]
  },
  {
   "cell_type": "code",
   "execution_count": 4,
   "metadata": {},
   "outputs": [],
   "source": [
    "def check (number) :\n",
    "        # 삼항연산자\n",
    "        #  다른언어  - 조건 ? true  일 때 : false 일 때\n",
    "        # 파이썬 - true 일 때 if 조건 else false일 때\n",
    "        result = '짝수' if number % 2 == 0 else '홀수'\n",
    "        return result"
   ]
  },
  {
   "cell_type": "code",
   "execution_count": 5,
   "metadata": {},
   "outputs": [
    {
     "data": {
      "text/plain": [
       "'홀수'"
      ]
     },
     "execution_count": 5,
     "metadata": {},
     "output_type": "execute_result"
    }
   ],
   "source": [
    "check(7)"
   ]
  },
  {
   "cell_type": "code",
   "execution_count": 6,
   "metadata": {},
   "outputs": [],
   "source": [
    "#  1, 3, 5, 7, 8, 10, 12 월은 31일, 4, 6, 9, 11월은 30일, 2월은 28일이다. 월을 나타내는 숫자를 입력하면 그 달의 날짜 수를 반환하는 함수 `days1` 를 만든다. 사용 예는 다음과 같다."
   ]
  },
  {
   "cell_type": "code",
   "execution_count": 7,
   "metadata": {},
   "outputs": [],
   "source": [
    "def year1(year):\n",
    "    if (year % 4 == 0 and year % 100 != 0) or (year % 400 == 0):\n",
    "        return \"윤년\"\n",
    "    else:\n",
    "        return \"평년\""
   ]
  },
  {
   "cell_type": "code",
   "execution_count": 8,
   "metadata": {},
   "outputs": [],
   "source": [
    "def days1(month, year):\n",
    "    if month == 2:\n",
    "        if year1(year) == \"윤년\":\n",
    "            return 29\n",
    "        else:\n",
    "            return 28\n",
    "    elif month in [4, 6, 9, 11]:\n",
    "        return 30\n",
    "    else:\n",
    "        return 31\n"
   ]
  },
  {
   "cell_type": "code",
   "execution_count": 9,
   "metadata": {},
   "outputs": [
    {
     "name": "stdout",
     "output_type": "stream",
     "text": [
      "28\n"
     ]
    }
   ],
   "source": [
    "print(days1(2,2022))"
   ]
  },
  {
   "cell_type": "code",
   "execution_count": 10,
   "metadata": {},
   "outputs": [],
   "source": [
    "# 파이썬의 함수는 return으로 여러개의 결과를 반환 가능\n",
    "# def 함수명 (매개변수 [,...]) :\n",
    "# return 반환값1, 반환값2 \n",
    "\n",
    "# 변수 = 함수명(매개변수)\n",
    "# 변수1, 변수2 = 함수명(매개변수)"
   ]
  },
  {
   "cell_type": "code",
   "execution_count": 11,
   "metadata": {},
   "outputs": [],
   "source": [
    "def func1 ():\n",
    "    return 1, 2"
   ]
  },
  {
   "cell_type": "code",
   "execution_count": 19,
   "metadata": {},
   "outputs": [
    {
     "name": "stdout",
     "output_type": "stream",
     "text": [
      "1, 2\n",
      "(1, 2)\n"
     ]
    }
   ],
   "source": [
    "x, y = func1()\n",
    "print(f'{x}, {y}')\n",
    "z = func1()\n",
    "print(f'{z}')"
   ]
  },
  {
   "cell_type": "code",
   "execution_count": 26,
   "metadata": {},
   "outputs": [],
   "source": [
    "def days2(year2, month2):\n",
    "        leapYear = '평년'\n",
    "        lastDay = 28\n",
    "        if year2 % 400 == 0 or (year2 % 100 != 0 and year2 % 4 == 0):\n",
    "                leapYear == '평년'\n",
    "        if month2 == 1 or month2 == 3 or month2 == 5 or month2 == 7 or month2 == 8 or month2 == 10 or month2 == 12:\n",
    "            lastDay ==31\n",
    "        elif month2 == 4 or month2 == 6 or month2 == 0 or month2 == 11:\n",
    "            lastDay== 30\n",
    "        else :\n",
    "            if leapYear == '윤년' :\n",
    "                lastDay == 29\n",
    "            else :\n",
    "                lastDay == 28\n",
    "            return leapYear, lastDay"
   ]
  },
  {
   "cell_type": "code",
   "execution_count": 30,
   "metadata": {},
   "outputs": [
    {
     "data": {
      "text/plain": [
       "('평년', 28)"
      ]
     },
     "execution_count": 30,
     "metadata": {},
     "output_type": "execute_result"
    }
   ],
   "source": [
    "days2(2000, 2)"
   ]
  },
  {
   "cell_type": "code",
   "execution_count": 31,
   "metadata": {},
   "outputs": [],
   "source": [
    "# 람다 함수\n",
    "# 이름이 선언하는 함수 , 함수를 변수에 담아서 사용할 수 있도록 해줌\n",
    "# 변수 = lambda 매개변수 : [,...]  : 실행코드\n",
    "# 파이썬에서 람다함수는 실행코드를 여러 줄 작성할 수 없음"
   ]
  },
  {
   "cell_type": "code",
   "execution_count": 32,
   "metadata": {},
   "outputs": [],
   "source": [
    "func2 = lambda x  :  2 * x \n",
    "\n",
    "#  아래 함수랑 같음 !\n",
    "def f2 (x) :\n",
    "    return 2 * x"
   ]
  },
  {
   "cell_type": "code",
   "execution_count": 33,
   "metadata": {},
   "outputs": [
    {
     "data": {
      "text/plain": [
       "10"
      ]
     },
     "execution_count": 33,
     "metadata": {},
     "output_type": "execute_result"
    }
   ],
   "source": [
    "func2(5)"
   ]
  },
  {
   "cell_type": "code",
   "execution_count": 34,
   "metadata": {},
   "outputs": [],
   "source": [
    "# 지역변수와 전역변수\n",
    "# 지역에서 선언된 변수는 지역 바깥에서 사용할 수 없음"
   ]
  },
  {
   "cell_type": "code",
   "execution_count": 43,
   "metadata": {},
   "outputs": [],
   "source": [
    "local_variable = 100"
   ]
  },
  {
   "cell_type": "code",
   "execution_count": 38,
   "metadata": {},
   "outputs": [],
   "source": [
    "def func3 ():\n",
    "    local_variable = 10 \n",
    "    return local_variable\n"
   ]
  },
  {
   "cell_type": "code",
   "execution_count": 44,
   "metadata": {},
   "outputs": [
    {
     "data": {
      "text/plain": [
       "100"
      ]
     },
     "execution_count": 44,
     "metadata": {},
     "output_type": "execute_result"
    }
   ],
   "source": [
    "func3()\n",
    "local_variable   "
   ]
  },
  {
   "cell_type": "code",
   "execution_count": null,
   "metadata": {},
   "outputs": [],
   "source": [
    "# 전역에 선언된 변수를 지역에서 사용하고자 한다면 사용 전에 먼저 global 키워드로 특정 전역변수를 사용하겠다고 지정 해야함"
   ]
  },
  {
   "cell_type": "code",
   "execution_count": 45,
   "metadata": {},
   "outputs": [],
   "source": [
    "def func4 () :\n",
    "    global local_variable \n",
    "    local_variable = 10"
   ]
  },
  {
   "cell_type": "code",
   "execution_count": 46,
   "metadata": {},
   "outputs": [
    {
     "data": {
      "text/plain": [
       "10"
      ]
     },
     "execution_count": 46,
     "metadata": {},
     "output_type": "execute_result"
    }
   ],
   "source": [
    "func4()\n",
    "local_variable"
   ]
  },
  {
   "cell_type": "code",
   "execution_count": null,
   "metadata": {},
   "outputs": [],
   "source": []
  }
 ],
 "metadata": {
  "kernelspec": {
   "display_name": "Python 3",
   "language": "python",
   "name": "python3"
  },
  "language_info": {
   "codemirror_mode": {
    "name": "ipython",
    "version": 3
   },
   "file_extension": ".py",
   "mimetype": "text/x-python",
   "name": "python",
   "nbconvert_exporter": "python",
   "pygments_lexer": "ipython3",
   "version": "3.12.2"
  }
 },
 "nbformat": 4,
 "nbformat_minor": 2
}
