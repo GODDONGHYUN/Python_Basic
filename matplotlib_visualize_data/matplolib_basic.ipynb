{
 "cells": [
  {
   "cell_type": "markdown",
   "metadata": {},
   "source": [
    "### 데이터 시각화 패키지 (matplotlib)\n",
    "matplotlib 패키지는 파이썬에서 데이터를 차트 혹은 플롯으로 시각화하는 패키지\n",
    "- 선형 그래프(line plot)\n",
    "\n",
    "- 점 그래프 (scatter plot)\n",
    "\n",
    "- 등고선(contour plot)\n",
    "\n",
    "- 표면도(surface plot)\n",
    "\n",
    "- 막대 그래프(bar chart)\n",
    "\n",
    "- 히스토그램(histogram)\n",
    "\n",
    "- 박스 그래프(box plot)"
   ]
  },
  {
   "cell_type": "markdown",
   "metadata": {},
   "source": [
    "### pyplot 하위 패키지\n",
    "간단한 시각화 자료를 만들때 사용되는 matplotlib의 하위 패키지  \n",
    "\n",
    "matplotlib 패키지를 직접 사용하지 않고 단순히 pyplot 만으로 시각화를 할 수 있음  \n",
    "```python\n",
    "import matplotlib as mpl\n",
    "import matplotlib.pyplot as plt\n",
    "```"
   ]
  },
  {
   "cell_type": "code",
   "execution_count": null,
   "metadata": {},
   "outputs": [],
   "source": [
    "import matplotlib as mpl\n",
    "import matplotlib.pyplot as plt"
   ]
  },
  {
   "cell_type": "code",
   "execution_count": null,
   "metadata": {},
   "outputs": [],
   "source": [
    "import pandas as pd\n",
    "import numpy as np"
   ]
  },
  {
   "cell_type": "code",
   "execution_count": null,
   "metadata": {},
   "outputs": [],
   "source": [
    "%matplotlib inline"
   ]
  },
  {
   "cell_type": "code",
   "execution_count": null,
   "metadata": {},
   "outputs": [],
   "source": [
    "# matplotlib 한글 표시 설정\n",
    "import matplotlib.font_manager as fm\n",
    "\n",
    "# matplotlib의 글꼴 관리자에 특정 글꼴 추가\n",
    "fe = fm.FontEntry (\n",
    "    fname = r'font/NanumGothic.ttf',\n",
    "    name = 'NanumGothic'\n",
    ")\n",
    "fm.fontManager.ttflist.insert(0, fe)\n",
    "\n",
    "# pyplot에 matplotlib의 글꼴 관리자에 등록된 글꼴 적용\n",
    "plt.rcParams.update({'font.family': 'NanumGothic', 'font.size': 14})\n",
    "# pyplot에서 `-`를 문자로 취급하도록 설정\n",
    "plt.rcParams['axes.unicode_minus'] = False"
   ]
  },
  {
   "cell_type": "markdown",
   "metadata": {},
   "source": [
    "###  차트의 종류\n",
    "**막대 그래프** : 데이터의 카테고리 별 값을 막대로 나타내는 방식 (수직 막대 그래프, 수평 막대 그래프)  \n",
    "> 카테고리 별로 비교할때 주로 사용 됨 (제품 별 판매량, 지역별 인구수)  \n",
    "\n",
    "**선 그래프** : 시간의 흐름에 따른 데이터 포인터를 선으로 연결하여 나타내는 방식  \n",
    "> 시간의 흐름에 따라 비교할 때 주로 사용됨 (기온의 변화, 주식 가격)  \n",
    "\n",
    "**파이 차트** : 전체에 대한 비율을 원형으로 나타내는 방식 (각 조각의 크기가 해당 부분의 비율)  \n",
    "> 전체에 대한 비율을 비교할 때 주로 사용됨 (여론 조사 결과)  \n",
    "\n",
    "**산점도** : 두 변수 간의 상관 관게를 점들의 분포로 나타내는 방식  \n",
    "> 두 변수의 상관 관계를 파악할 때 주로 사용됨 (키와 몸무게의 상관 관계)\n",
    "\n",
    "**히스토그램** : 범위별로 그룹화해서 각 그룹에 속하는 데이터 포인터의 수를 막대로 나타내는 방식  \n",
    "> 데이터의 분포를 비교할 때 주로 사용됨 (시험 점수의 분포)  \n",
    "\n",
    "**영역 그래프** : 선 그래프의 아래 영역에 색으로 채운 형태  \n",
    "> 시간의 프름에 따라 비교할 때 주로 사용됨, 변화량을 강조할 때 주로 사용됨  \n",
    "\n",
    "**박스 그래프** : 데이터의 분포를 나타내는 방식, 최소값, 최대값, 사분위를 나타내는 방식  \n",
    "> 데이터의 이상치를 판단할 때 주로 사용됨"
   ]
  },
  {
   "cell_type": "markdown",
   "metadata": {},
   "source": [
    "### 라인 플롯 (선 그래프)\n",
    "가장 기본적인 그래프로 데이터가 시간의 흐름, 순서에 따라 변할 때 사용됨  \n",
    "pyplot 하위 패키지의 `plot()` 메서드로 간단하게 생성 가능, 매개변수로 리스트 혹은 배열을 전달"
   ]
  },
  {
   "cell_type": "code",
   "execution_count": null,
   "metadata": {},
   "outputs": [],
   "source": [
    "plt.plot([1, 2, 4, 8, 16, 32])\n",
    "plt.show()"
   ]
  },
  {
   "cell_type": "code",
   "execution_count": null,
   "metadata": {},
   "outputs": [],
   "source": [
    "plt.title('x 틱') \n",
    "plt.plot([2000, 2005, 2010, 2015, 2020, 2025] , [1, 2, 4, 8, 16, 32])\n",
    "plt.show()"
   ]
  },
  {
   "cell_type": "markdown",
   "metadata": {},
   "source": [
    "### 차트 스타일 지정\n",
    "`plot()` 메서드에 특정한 문자열 매개변수를 전달하면 스타일을 변경할 수 있음  \n"
   ]
  },
  {
   "cell_type": "code",
   "execution_count": null,
   "metadata": {},
   "outputs": [],
   "source": [
    "plt.title('rs-- 스타일 지정') \n",
    "plt.plot([2000, 2005, 2010, 2015, 2020, 2025] , [1, 2, 4, 8, 16, 32], 'rs--')\n",
    "plt.show()"
   ]
  },
  {
   "cell_type": "code",
   "execution_count": null,
   "metadata": {},
   "outputs": [],
   "source": [
    "plt.title('cs-- 스타일 지정') \n",
    "plt.plot([2000, 2005, 2010, 2015, 2020, 2025] , [1, 2, 4, 8, 16, 32], 'cs--')\n",
    "plt.show()"
   ]
  },
  {
   "cell_type": "code",
   "execution_count": null,
   "metadata": {},
   "outputs": [],
   "source": [
    "plt.title('cs-- 스타일 지정') \n",
    "plt.plot([2000, 2005, 2010, 2015, 2020, 2025] , [1, 2, 4, 8, 16, 32], 'cs-.')\n",
    "plt.show()"
   ]
  },
  {
   "cell_type": "markdown",
   "metadata": {},
   "source": [
    "#### `plot()` 메서드의 스타일 매개변수 \n",
    "- color (c) : 선 색깔  \n",
    "- linewidth (lw) : 선 굵기  \n",
    "- linestyle (ls) : 선 스타일\n",
    "- marker : 마커 종류  \n",
    "- markersize (ms) : 마커 크기  \n",
    "- markeredgecolor (mec) : 마커 테두리 색상  \n",
    "- markeredgesize (mes) : 마커 테두리 굵기  \n",
    "- markerfacecolor (mfc) : 마커 내부 색상 "
   ]
  },
  {
   "cell_type": "code",
   "execution_count": null,
   "metadata": {},
   "outputs": [],
   "source": [
    "plt.title('스타일 지정') \n",
    "plt.plot([2000, 2005, 2010, 2015, 2020, 2025] , [1, 2, 4, 8, 16, 32], lw =5, c = '#00998850',ls= ':', marker = '*', ms = 10, mfc = '#009988')\n",
    "plt.show()"
   ]
  },
  {
   "cell_type": "markdown",
   "metadata": {},
   "source": [
    "### 차트 범위 지정\n",
    "`xlim()`, `ylim()` 메서드로 x축과 y축의 상하한 값을 지정할 수 있음"
   ]
  },
  {
   "cell_type": "code",
   "execution_count": null,
   "metadata": {},
   "outputs": [],
   "source": [
    "plt.title('차트 범위 변경') \n",
    "plt.plot([2000, 2005, 2010, 2015, 2020, 2025] ,\n",
    "[1, 2, 4, 8, 16, 32], lw =5, c = '#00998850',\n",
    "ls= ':', marker = '*', ms = 10, mfc = '#009988',)\n",
    "plt.xlim(1995, 2030)\n",
    "plt.ylim(-1, 40)\n",
    "plt.show()"
   ]
  },
  {
   "cell_type": "markdown",
   "metadata": {},
   "source": [
    "### 틱 설정\n",
    "`xticks()` ,`yticks()` 메서드로 틱의 위치나 라벨을 직접 지정할 수 있음"
   ]
  },
  {
   "cell_type": "code",
   "execution_count": null,
   "metadata": {},
   "outputs": [],
   "source": [
    "X = np.linspace(-np.pi, np.pi, 256)\n",
    "C = np.cos(X)\n",
    "\n",
    "plt.title('틱 설정')\n",
    "plt.plot(X, C)\n",
    "plt.xticks([-np.pi, -np.pi / 2, 0, -np.pi / 2, -np.pi ])\n",
    "plt.yticks([-1, 0, 1], ['Low', 'Zero', 'High'])\n",
    "plt.show()"
   ]
  },
  {
   "cell_type": "markdown",
   "metadata": {},
   "source": [
    "### Grid 설정\n",
    "`grid()` 메세드로 그리드를 표현할지 말지를 정할 수 있음"
   ]
  },
  {
   "cell_type": "code",
   "execution_count": null,
   "metadata": {},
   "outputs": [],
   "source": [
    "X = np.linspace(-np.pi, np.pi, 256)\n",
    "C = np.cos(X)\n",
    "\n",
    "plt.title('틱 설정')\n",
    "plt.plot(X, C)\n",
    "plt.xticks([-np.pi, -np.pi / 2, 0, -np.pi / 2, -np.pi ])\n",
    "plt.yticks([-1, 0, 1], ['Low', 'Zero', 'High'])\n",
    "plt.grid(True)\n",
    "plt.show()"
   ]
  },
  {
   "cell_type": "markdown",
   "metadata": {},
   "source": [
    "### 여러 그래프를 하나의 차트에 표현하기\n",
    "`plot()` 메서드에 x, y, style 매개변수를 반복해서 전달하여 여러 그래프를 하나의 하트에 표현할 수 있음(스타일 문자열 생략 불가능)"
   ]
  },
  {
   "cell_type": "code",
   "execution_count": null,
   "metadata": {},
   "outputs": [],
   "source": [
    "t = np.arange(0., 5., 0.2)\n",
    "plt.title('여러 그래프 표현')\n",
    "plt.plot(t, t, 'r--', t, 0.5 * t ** 2, 'bs:', t, 0.2 * t **3, 'g^-')\n",
    "plt.grid(True)\n",
    "plt.show()"
   ]
  },
  {
   "cell_type": "markdown",
   "metadata": {},
   "source": [
    "### 차트 겹치기\n",
    "`plot()` 메서드를 중복해서 작성하여 차트를 겹칠 수 있음"
   ]
  },
  {
   "cell_type": "code",
   "execution_count": null,
   "metadata": {},
   "outputs": [],
   "source": [
    "plt.title('차트 겹치기') \n",
    "plt.plot([2000, 2005, 2010, 2015, 2020, 2025] ,\n",
    "[1, 2, 4, 8, 16, 32], lw =5, c = '#00998850',\n",
    "ls= ':', marker = '*', ms = 10, mfc = '#009988',)\n",
    "plt.plot([2000, 2005, 2010, 2015, 2020, 2025] ,\n",
    "[32, 16, 8, 4, 2, 1], lw =5, c = '#99880050',\n",
    "ls= ':', marker = 'o', ms = 10, mfc = '#998800',)\n",
    "plt.xlim(1995, 2030)\n",
    "plt.ylim(-1, 40)\n",
    "plt.show()"
   ]
  },
  {
   "cell_type": "markdown",
   "metadata": {},
   "source": [
    "### 범례\n",
    "여러 개의 그래프가 한 차트에 표시 될 때 각 그래프가 무엇을 의미하는지 보여주는 범례를 표현 할 수 있다  \n",
    "`legend()` 메서드로 표현 (`plot()` 메서드에 `label` 매개변수를 지정해야함), 위치를 수동으로 지정하고 싶으면 `loc` 매개변수를 사용함"
   ]
  },
  {
   "cell_type": "code",
   "execution_count": null,
   "metadata": {},
   "outputs": [],
   "source": [
    "plt.title('범례 표현') \n",
    "plt.plot([2000, 2005, 2010, 2015, 2020, 2025] ,\n",
    "[1, 2, 4, 8, 16, 32], lw =5, c = '#00998850',\n",
    "ls= ':', marker = '*', ms = 10, mfc = '#009988', label = '증가')\n",
    "plt.plot([2000, 2005, 2010, 2015, 2020, 2025] ,\n",
    "[32, 16, 8, 4, 2, 1], lw =5, c = '#99880050',\n",
    "ls= ':', marker = 'o', ms = 10, mfc = '#998800', label = '감소')\n",
    "plt.legend(loc = 10)\n",
    "plt.show()"
   ]
  },
  {
   "cell_type": "markdown",
   "metadata": {},
   "source": [
    "### x축, y축 라벨 \n",
    "`xlabel()` , `ylabel()` 메서드로 x축과 y축의 라벨을 표시 할 수 있음"
   ]
  },
  {
   "cell_type": "code",
   "execution_count": null,
   "metadata": {},
   "outputs": [],
   "source": [
    "plt.title('범례 표현') \n",
    "plt.plot([2000, 2005, 2010, 2015, 2020, 2025] ,\n",
    "[1, 2, 4, 8, 16, 32], lw =5, c = '#00998850',\n",
    "ls= ':', marker = '*', ms = 10, mfc = '#009988', label = '증가')\n",
    "plt.xlabel('연도')\n",
    "plt.ylabel('증가치')\n",
    "plt.show()"
   ]
  },
  {
   "cell_type": "markdown",
   "metadata": {},
   "source": [
    "### 차트 그림의 구조\n",
    "matplotlib 으로 그려지는 차트는 Figure 객체, Axes 객체, Axis 객체로 구성이 되어져있음\n",
    "Figure 객체는 하나 이상의 Axes 객체를 포함하고 있고, Axes 객체는 두 개 이상의 Axis 객체를 포함하고 있음\n",
    "\n",
    "`Figure` : 차트가 그려지는 캔버스\n",
    "`Axes` : 하나의 플롯 (그래프)\n",
    "`Axis` : 하나의 축\n",
    "\n",
    "#### Figure 객체\n",
    "모든 차트 그래프 결과는 Figure 객체에 포함되어 있음\n",
    "내부 차트가 아닌 경우 하나의 Figure 객체에는 하나의 아이디와 윈도우를 가짐\n",
    "일반적으로 기본 파이썬에서 차트를 표시하면 Figure 하나당 하나의 윈도우를 가짐\n",
    "`plot()` 메서드가 자동으로 Figure 객체를 생성하기 때문에 직접 생성하는 경우는 드물지만 여러 개의 윈도우를 동시에 출력할 때나 차트 전체의 크기를 변경하고 싶을 때 사용할 수 있음"
   ]
  },
  {
   "cell_type": "code",
   "execution_count": null,
   "metadata": {},
   "outputs": [],
   "source": [
    "\n",
    "plt.figure(figsize=(10, 2))\n",
    "plt.title('figure 객체 사이즈 변경')\n",
    "plt.plot(np.random.randn(100))\n",
    "plt.show()"
   ]
  },
  {
   "cell_type": "code",
   "execution_count": null,
   "metadata": {},
   "outputs": [],
   "source": [
    "f1 = plt.figure(figsize=(10, 2))\n",
    "plt.title('figure 객체 사이즈 변경')\n",
    "plt.plot(np.random.randn(100))\n",
    "plt.show()"
   ]
  },
  {
   "cell_type": "markdown",
   "metadata": {},
   "source": [
    "### `Axes` 객체와 subplot\n",
    "하나의 Figure 객체 안에 여러개의 Axes 객체를 생성하여 행렬 형태의 서브 플롯을  \n",
    "생성할 수 있음 이때 `subplot()` 메서드를 사용하여 Axes 객체를 생성할 수 있음  \n",
    "그러나, pyplot의 `plot()` 메서드를 바로 사용해도 Axes 객체를 생성할 수 있음"
   ]
  },
  {
   "cell_type": "code",
   "execution_count": null,
   "metadata": {},
   "outputs": [],
   "source": [
    "x1 = np.linspace(0, 5)  \n",
    "x2 = np.linspace(0, 2)\n",
    "y1 = np.cos(2 * np.pi * x1) * np.exp(-x1)\n",
    "y2 = np.cos(2 * np.pi * x2)\n",
    "\n",
    "plt.subplot(2, 1, 1)\n",
    "plt.plot(x1, y1, 'yo-')\n",
    "plt.title('2행 1열 서브 플롯 첫 번째')\n",
    "\n",
    "plt.subplot(2, 1, 2)\n",
    "plt.plot(x2, y2, 'r.-')\n",
    "plt.title('2행 1열 서브 플롯 두 번째')\n",
    "\n",
    "plt.tight_layout()\n",
    "plt.plot()"
   ]
  },
  {
   "cell_type": "markdown",
   "metadata": {},
   "source": [
    "`subplot()` 메서드의(x, y, index)의 인수를 (xyindex)로 붙여서 사용할 수 있음  \n",
    "예시:`subplot(2, 2, 1)` → `subplot(221)`"
   ]
  },
  {
   "cell_type": "code",
   "execution_count": null,
   "metadata": {},
   "outputs": [],
   "source": [
    "plt.subplot(221)\n",
    "plt.plot(np.random.rand(5))\n",
    "plt.title('첫 번째 플롯')\n",
    "\n",
    "plt.subplot(222)\n",
    "plt.plot(np.random.rand(5))\n",
    "plt.title('두 번째 플롯')\n",
    "\n",
    "plt.subplot(223)\n",
    "plt.plot(np.random.rand(5))\n",
    "plt.title('세 번째 플롯')\n",
    "\n",
    "plt.subplot(224)\n",
    "plt.plot(np.random.rand(5))\n",
    "plt.title('네 번째 플롯')\n",
    "\n",
    "plt.tight_layout()\n",
    "plt.show()"
   ]
  },
  {
   "cell_type": "markdown",
   "metadata": {},
   "source": [
    "`subplot(x, y)` 메서드로 복수의 axes 객체를 담은 배열을 생성할 수 있음  \n",
    "`subplot(x ,y)` 메서드는 (figure, axes 배열) 튜플을 반환"
   ]
  },
  {
   "cell_type": "code",
   "execution_count": 27,
   "metadata": {},
   "outputs": [
    {
     "data": {
      "text/plain": [
       "<function matplotlib.pyplot.show(close=None, block=None)>"
      ]
     },
     "execution_count": 27,
     "metadata": {},
     "output_type": "execute_result"
    },
    {
     "data": {
      "image/png": "[encoded data removed]",
      "text/plain": [
       "<Figure size 640x480 with 4 Axes>"
      ]
     },
     "metadata": {},
     "output_type": "display_data"
    }
   ],
   "source": [
    "figure, axes = plt.subplots(2, 2)  \n",
    "\n",
    "axes[0, 0].plot(np.random.rand(5))\n",
    "axes[0, 0].set_title('1행 1열')\n",
    "\n",
    "axes[0, 1].plot(np.random.rand(5))\n",
    "axes[0, 1].set_title('1행 2열')\n",
    "\n",
    "axes[1, 0].plot(np.random.rand(5))\n",
    "axes[1, 0].set_title('2행 1열')\n",
    "\n",
    "axes[1, 1].plot(np.random.rand(5))\n",
    "axes[1, 1].set_title('2행 2열')\n",
    "\n",
    "plt.tight_layout()\n",
    "plt.show"
   ]
  },
  {
   "cell_type": "markdown",
   "metadata": {},
   "source": [
    "#### axes 객체와 축\n",
    "`twinx()` 메서드로 x 축을 공유하는 새로운 Axes 객체를 생성할 수 있음"
   ]
  },
  {
   "cell_type": "code",
   "execution_count": 29,
   "metadata": {},
   "outputs": [
    {
     "ename": "TypeError",
     "evalue": "cannot unpack non-iterable Axes object",
     "output_type": "error",
     "traceback": [
      "\u001b[1;31m---------------------------------------------------------------------------\u001b[0m",
      "\u001b[1;31mTypeError\u001b[0m                                 Traceback (most recent call last)",
      "Cell \u001b[1;32mIn[29], line 1\u001b[0m\n\u001b[1;32m----> 1\u001b[0m figure, axes0 \u001b[38;5;241m=\u001b[39m plt\u001b[38;5;241m.\u001b[39msubplot()\n\u001b[0;32m      2\u001b[0m axes1 \u001b[38;5;241m=\u001b[39m axes0\u001b[38;5;241m.\u001b[39mtwinx()\n\u001b[0;32m      4\u001b[0m axes0\u001b[38;5;241m.\u001b[39mset_title(\u001b[38;5;124m'\u001b[39m\u001b[38;5;124mx 축을 공유하는 플롯\u001b[39m\u001b[38;5;124m'\u001b[39m)\n",
      "\u001b[1;31mTypeError\u001b[0m: cannot unpack non-iterable Axes object"
     ]
    },
    {
     "data": {
      "image/png": "[encoded data removed]",
      "text/plain": [
       "<Figure size 640x480 with 1 Axes>"
      ]
     },
     "metadata": {},
     "output_type": "display_data"
    }
   ],
   "source": [
    "figure, axes0 = plt.subplot()\n",
    "axes1 = axes0.twinx()\n",
    "\n",
    "axes0.set_title('x 축을 공유하는 플롯')\n",
    "axes0.plot([10, 5, 2, 9, 7], 'r-', label = 'y0')\n",
    "axes0.set_ylabel('y0')\n",
    "\n",
    "axes1.plot([100, 200, 2220, 180, 120], 'g:', label = 'y1')\n",
    "axes1.set_ylabel('y1')"
   ]
  }
 ],
 "metadata": {
  "kernelspec": {
   "display_name": "Python 3",
   "language": "python",
   "name": "python3"
  },
  "language_info": {
   "codemirror_mode": {
    "name": "ipython",
    "version": 3
   },
   "file_extension": ".py",
   "mimetype": "text/x-python",
   "name": "python",
   "nbconvert_exporter": "python",
   "pygments_lexer": "ipython3",
   "version": "3.12.2"
  }
 },
 "nbformat": 4,
 "nbformat_minor": 2
}
