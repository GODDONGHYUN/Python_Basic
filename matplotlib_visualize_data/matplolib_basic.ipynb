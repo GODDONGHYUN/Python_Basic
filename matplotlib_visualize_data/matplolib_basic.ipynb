{
 "cells": [
  {
   "cell_type": "markdown",
   "metadata": {},
   "source": [
    "### 데이터 시각화 패키지 (matplotlib)\n",
    "matplotlib 패키지는 파이썬에서 데이터를 차트 혹은 플롯으로 시각화하는 패키지\n",
    "- 선형 그래프(line plot)\n",
    "\n",
    "- 점 그래프 (scatter plot)\n",
    "\n",
    "- 등고선(contour plot)\n",
    "\n",
    "- 표면도(surface plot)\n",
    "\n",
    "- 막대 그래프(bar chart)\n",
    "\n",
    "- 히스토그램(histogram)\n",
    "\n",
    "- 박스 그래프(box plot)"
   ]
  },
  {
   "cell_type": "markdown",
   "metadata": {},
   "source": [
    "### pyplot 하위 패키지\n",
    "간단한 시각화 자료를 만들때 사용되는 matplotlib의 하위 패키지  \n",
    "\n",
    "matplotlib 패키지를 직접 사용하지 않고 단순히 pyplot 만으로 시각화를 할 수 있음  \n",
    "```python\n",
    "import matplotlib as mpl\n",
    "import matplotlib.pyplot as plt\n",
    "```"
   ]
  },
  {
   "cell_type": "code",
   "execution_count": 1,
   "metadata": {},
   "outputs": [],
   "source": [
    "import matplotlib as mpl\n",
    "import matplotlib.pyplot as plt"
   ]
  },
  {
   "cell_type": "code",
   "execution_count": 5,
   "metadata": {},
   "outputs": [],
   "source": [
    "import pandas as pd"
   ]
  },
  {
   "cell_type": "code",
   "execution_count": 4,
   "metadata": {},
   "outputs": [],
   "source": [
    "%matplotlib inline"
   ]
  },
  {
   "cell_type": "code",
   "execution_count": 11,
   "metadata": {},
   "outputs": [],
   "source": [
    "# matplotlib 한글 표시 설정\n",
    "import matplotlib.font_manager as fm\n",
    "\n",
    "# matplotlib의 글꼴 관리자에 특정 글꼴 추가\n",
    "fe = fm.FontEntry (\n",
    "    fname = r'font/NanumGothic.ttf',\n",
    "    name = 'NanumGothic'\n",
    ")\n",
    "fm.fontManager.ttflist.insert(0, fe)\n",
    "\n",
    "# pyplot에 matplotlib의 글꼴 관리자에 등록된 글꼴 적용\n",
    "plt.rcParams.update({'font.family': 'NanumGothic', 'font.size': 14})\n",
    "# pyplot에서 `-`를 문자로 취급하도록 설정\n",
    "plt.rcParams['axes.unicode_minus'] = False"
   ]
  },
  {
   "cell_type": "markdown",
   "metadata": {},
   "source": [
    "###  차트의 종류\n",
    "**막대 그래프** : 데이터의 카테고리 별 값을 막대로 나타내는 방식 (수직 막대 그래프, 수평 막대 그래프)  \n",
    "> 카테고리 별로 비교할때 주로 사용 됨 (제품 별 판매량, 지역별 인구수)  \n",
    "\n",
    "**선 그래프** : 시간의 흐름에 따른 데이터 포인터를 선으로 연결하여 나타내는 방식  \n",
    "> 시간의 흐름에 따라 비교할 때 주로 사용됨 (기온의 변화, 주식 가격)  \n",
    "\n",
    "**파이 차트** : 전체에 대한 비율을 원형으로 나타내는 방식 (각 조각의 크기가 해당 부분의 비율)  \n",
    "> 전체에 대한 비율을 비교할 때 주로 사용됨 (여론 조사 결과)  \n",
    "\n",
    "**산점도** : 두 변수 간의 상관 관게를 점들의 분포로 나타내는 방식  \n",
    "> 두 변수의 상관 관계를 파악할 때 주로 사용됨 (키와 몸무게의 상관 관계)\n",
    "\n",
    "**히스토그램** : 범위별로 그룹화해서 각 그룹에 속하는 데이터 포인터의 수를 막대로 나타내는 방식  \n",
    "> 데이터의 분포를 비교할 때 주로 사용됨 (시험 점수의 분포)  \n",
    "\n",
    "**영역 그래프** : 선 그래프의 아래 영역에 색으로 채운 형태  \n",
    "> 시간의 프름에 따라 비교할 때 주로 사용됨, 변화량을 강조할 때 주로 사용됨  \n",
    "\n",
    "**박스 그래프** : 데이터의 분포를 나타내는 방식, 최소값, 최대값, 사분위를 나타내는 방식  \n",
    "> 데이터의 이상치를 판단할 때 주로 사용됨"
   ]
  },
  {
   "cell_type": "markdown",
   "metadata": {},
   "source": [
    "### 라인 플롯 (선 그래프)\n",
    "가장 기본적인 그래프로 데이터가 시간의 흐름, 순서에 따라 변할 때 사용됨  \n",
    "pyplot 하위 패키지의 `plot()` 메서드로 간단하게 생성 가능, 매개변수로 리스트 혹은 배열을 전달"
   ]
  },
  {
   "cell_type": "code",
   "execution_count": null,
   "metadata": {},
   "outputs": [],
   "source": [
    "plt.plot([1, 2, 4, 8, 16, 32])"
   ]
  }
 ],
 "metadata": {
  "kernelspec": {
   "display_name": "Python 3",
   "language": "python",
   "name": "python3"
  },
  "language_info": {
   "codemirror_mode": {
    "name": "ipython",
    "version": 3
   },
   "file_extension": ".py",
   "mimetype": "text/x-python",
   "name": "python",
   "nbconvert_exporter": "python",
   "pygments_lexer": "ipython3",
   "version": "3.12.2"
  }
 },
 "nbformat": 4,
 "nbformat_minor": 2
}
