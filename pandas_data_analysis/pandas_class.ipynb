{
 "cells": [
  {
   "cell_type": "markdown",
   "metadata": {},
   "source": [
    "### 판다스 패키지\n",
    "데이터를 시계열이나 표로 표현하기 위한 패키지  \n",
    "시계열을 표현하는 `Series` 클래스와 표로 표현하는 `DataFrame` 클래스 존재함\n",
    "\n",
    "판다스 패키지를 사용하기 위해서는 패키지를 설치 해야함\n",
    "``` bash\n",
    "pip install pandas\n",
    "```\n",
    "\n",
    "패키지를 임포트할 때는  \n",
    "```python\n",
    "import pandas\n",
    "import pandas as pd\n",
    "```\n",
    "\n",
    "pandas 3.0 이상 버전 부터는 Pyarrow 패키지가 필수 의존 패키지로 지정되어 존재하지 않으면  \n",
    "```bash\n",
    "pip install pyarrow\n",
    "```\n",
    "로 설치 권장 "
   ]
  },
  {
   "cell_type": "code",
   "execution_count": 1,
   "metadata": {},
   "outputs": [],
   "source": [
    "import pandas as pd"
   ]
  },
  {
   "cell_type": "markdown",
   "metadata": {},
   "source": [
    "### 시리즈 클래스\n",
    "1차원의 시계열 데이터를 표현하고자 할 때 사용하는 클래스로 인덱스와 값이 한 쌍으로 나열 되어 있는 형태  \n",
    "시리지를 생성하는 방법 : pandas 패키지의 `Series` 클래스의 생성자로 값과 인덱스에 대한 배열 혹은  \n",
    "리스트를 전달하면 생성 할 수 있음"
   ]
  },
  {
   "cell_type": "code",
   "execution_count": 17,
   "metadata": {},
   "outputs": [
    {
     "data": {
      "text/plain": [
       "김철수     85\n",
       "신짱구     70\n",
       "신짱아    100\n",
       "최유리     90\n",
       "봉미선     55\n",
       "dtype: int64"
      ]
     },
     "execution_count": 17,
     "metadata": {},
     "output_type": "execute_result"
    }
   ],
   "source": [
    "# 인덱스 배열의 요소는 중복이 되어도 됨\n",
    "scores = pd.Series([85, 70, 100, 90, 55], index = ['김철수', '신짱구', '신짱아', '최유리', '봉미선'])\n",
    "scores"
   ]
  },
  {
   "cell_type": "code",
   "execution_count": 4,
   "metadata": {},
   "outputs": [
    {
     "data": {
      "text/plain": [
       "0     85\n",
       "1     70\n",
       "2    100\n",
       "3     90\n",
       "4     55\n",
       "dtype: int64"
      ]
     },
     "execution_count": 4,
     "metadata": {},
     "output_type": "execute_result"
    }
   ],
   "source": [
    "# index를 지정하지 않으면 0부터 시작하는 정수의 인덱스 값이 자동으로 생성됨\n",
    "scores = pd.Series([85, 70, 100, 90, 55])\n",
    "scores"
   ]
  },
  {
   "cell_type": "markdown",
   "metadata": {},
   "source": [
    "Sereis 객체의 index와 values 들을 보고자 한다면 `index`속성과 `values` 속성으로 확인할 수 있음"
   ]
  },
  {
   "cell_type": "code",
   "execution_count": 6,
   "metadata": {},
   "outputs": [
    {
     "data": {
      "text/plain": [
       "Index(['오구라 유나', '아스카 키라라', '후카다 에이미', '모모노기 카나', '미카미 유아'], dtype='object')"
      ]
     },
     "execution_count": 6,
     "metadata": {},
     "output_type": "execute_result"
    }
   ],
   "source": [
    "scores.index"
   ]
  },
  {
   "cell_type": "markdown",
   "metadata": {},
   "source": [
    "`name` 속성으로 value에 대한 이름을 부여할 수 있음\n",
    "`index.name` 속성으로 index에 대한 이름을 부여할 수 있음"
   ]
  },
  {
   "cell_type": "code",
   "execution_count": 18,
   "metadata": {},
   "outputs": [
    {
     "data": {
      "text/plain": [
       "이름\n",
       "김철수     85\n",
       "신짱구     70\n",
       "신짱아    100\n",
       "최유리     90\n",
       "봉미선     55\n",
       "Name: 점수, dtype: int64"
      ]
     },
     "execution_count": 18,
     "metadata": {},
     "output_type": "execute_result"
    }
   ],
   "source": [
    "scores.name = '점수'\n",
    "scores.index.name = '이름'\n",
    "scores"
   ]
  },
  {
   "cell_type": "markdown",
   "metadata": {},
   "source": [
    "#### 시리즈 연산\n",
    "시리즈도 numpy 배열과 같이 벡터화 연산이 가능함  \n",
    "단, 연산 작업은 값에만 적용됨"
   ]
  },
  {
   "cell_type": "code",
   "execution_count": 9,
   "metadata": {},
   "outputs": [
    {
     "data": {
      "text/plain": [
       "이름\n",
       "오구라 유나      34.0\n",
       "모모타니 에리카    28.0\n",
       "후카다 에이미     40.0\n",
       "모모노기 카나     36.0\n",
       "미카미 유아      22.0\n",
       "Name: 점수, dtype: float64"
      ]
     },
     "execution_count": 9,
     "metadata": {},
     "output_type": "execute_result"
    }
   ],
   "source": [
    "scores * 0.4"
   ]
  },
  {
   "cell_type": "code",
   "execution_count": 10,
   "metadata": {},
   "outputs": [
    {
     "data": {
      "text/plain": [
       "이름\n",
       "오구라 유나       True\n",
       "모모타니 에리카     True\n",
       "후카다 에이미      True\n",
       "모모노기 카나      True\n",
       "미카미 유아      False\n",
       "Name: 점수, dtype: bool"
      ]
     },
     "execution_count": 10,
     "metadata": {},
     "output_type": "execute_result"
    }
   ],
   "source": [
    "scores >= 60"
   ]
  },
  {
   "cell_type": "code",
   "execution_count": 19,
   "metadata": {},
   "outputs": [],
   "source": [
    "scores2 = pd.Series([60,100,90,70,95], index= ['김철수', '신짱구', '신짱아', '최유리', '봉미선'])"
   ]
  },
  {
   "cell_type": "code",
   "execution_count": 20,
   "metadata": {},
   "outputs": [
    {
     "data": {
      "text/plain": [
       "이름\n",
       "김철수    145\n",
       "신짱구    170\n",
       "신짱아    190\n",
       "최유리    160\n",
       "봉미선    150\n",
       "dtype: int64"
      ]
     },
     "execution_count": 20,
     "metadata": {},
     "output_type": "execute_result"
    }
   ],
   "source": [
    "scores + scores2"
   ]
  },
  {
   "cell_type": "markdown",
   "metadata": {},
   "source": [
    "#### 시리즈 인덱싱\n",
    "시리즈도 리스트나 배열과 같이 인덱스 번호로 접근이 가능  \n",
    "단, 시리즈는 index 값으로 접근이 가능\n",
    "배열 인덱싱이나 슬라이싱 모두 가능"
   ]
  },
  {
   "cell_type": "code",
   "execution_count": 16,
   "metadata": {},
   "outputs": [
    {
     "name": "stderr",
     "output_type": "stream",
     "text": [
      "C:\\Users\\ITPS\\AppData\\Local\\Temp\\ipykernel_2956\\3116535404.py:1: FutureWarning: Series.__getitem__ treating keys as positions is deprecated. In a future version, integer keys will always be treated as labels (consistent with DataFrame behavior). To access a value by position, use `ser.iloc[pos]`\n",
      "  scores[1], scores['오구라 유나']\n"
     ]
    },
    {
     "data": {
      "text/plain": [
       "(70, 85)"
      ]
     },
     "execution_count": 16,
     "metadata": {},
     "output_type": "execute_result"
    }
   ],
   "source": [
    "scores[1], scores['김철수'] "
   ]
  },
  {
   "cell_type": "markdown",
   "metadata": {},
   "source": [
    "배열 인덱싱을 사용하여 자료의 순서를 바꾸거나 특정한 자료만 선택하여 시리즈 객체를 생성할 수 있음"
   ]
  },
  {
   "cell_type": "code",
   "execution_count": 21,
   "metadata": {},
   "outputs": [
    {
     "name": "stderr",
     "output_type": "stream",
     "text": [
      "C:\\Users\\ITPS\\AppData\\Local\\Temp\\ipykernel_2956\\2844775243.py:1: FutureWarning: Series.__getitem__ treating keys as positions is deprecated. In a future version, integer keys will always be treated as labels (consistent with DataFrame behavior). To access a value by position, use `ser.iloc[pos]`\n",
      "  scores[[0, 3, 1]]\n"
     ]
    },
    {
     "data": {
      "text/plain": [
       "이름\n",
       "김철수    85\n",
       "최유리    90\n",
       "신짱구    70\n",
       "Name: 점수, dtype: int64"
      ]
     },
     "execution_count": 21,
     "metadata": {},
     "output_type": "execute_result"
    }
   ],
   "source": [
    "scores[[0, 3, 1]]"
   ]
  },
  {
   "cell_type": "code",
   "execution_count": 22,
   "metadata": {},
   "outputs": [
    {
     "data": {
      "text/plain": [
       "이름\n",
       "김철수     85\n",
       "신짱구     70\n",
       "신짱아    100\n",
       "Name: 점수, dtype: int64"
      ]
     },
     "execution_count": 22,
     "metadata": {},
     "output_type": "execute_result"
    }
   ],
   "source": [
    "scores[['김철수','신짱구','신짱아']]"
   ]
  },
  {
   "cell_type": "code",
   "execution_count": 24,
   "metadata": {},
   "outputs": [
    {
     "data": {
      "text/plain": [
       "이름\n",
       "봉미선    55\n",
       "Name: 점수, dtype: int64"
      ]
     },
     "execution_count": 24,
     "metadata": {},
     "output_type": "execute_result"
    }
   ],
   "source": [
    "scores[(scores < 70)]"
   ]
  },
  {
   "cell_type": "markdown",
   "metadata": {},
   "source": [
    "시리즈 객체도 슬라이싱이 가능한데 인덱스의 이름 (라벨)으로 슬라이싱 할 때는 인덱스 번호로 슬라이싱 할 때와 다르게  \n",
    "마지막 인덱스 값도 포함해서 반환"
   ]
  },
  {
   "cell_type": "code",
   "execution_count": 25,
   "metadata": {},
   "outputs": [
    {
     "data": {
      "text/plain": [
       "이름\n",
       "신짱구     70\n",
       "신짱아    100\n",
       "Name: 점수, dtype: int64"
      ]
     },
     "execution_count": 25,
     "metadata": {},
     "output_type": "execute_result"
    }
   ],
   "source": [
    "scores[1:3]"
   ]
  },
  {
   "cell_type": "code",
   "execution_count": 27,
   "metadata": {},
   "outputs": [
    {
     "data": {
      "text/plain": [
       "이름\n",
       "신짱구     70\n",
       "신짱아    100\n",
       "Name: 점수, dtype: int64"
      ]
     },
     "execution_count": 27,
     "metadata": {},
     "output_type": "execute_result"
    }
   ],
   "source": [
    "scores['신짱구' :'신짱아']"
   ]
  },
  {
   "cell_type": "markdown",
   "metadata": {},
   "source": [
    "시리즈 객체의 라벨이 영문자로 이루어져있다면 객체의 속성에 접근하는 것과 같은 방법으로 접근할 수 있음"
   ]
  },
  {
   "cell_type": "code",
   "execution_count": 28,
   "metadata": {},
   "outputs": [
    {
     "data": {
      "text/plain": [
       "a    0\n",
       "b    1\n",
       "c    2\n",
       "dtype: int64"
      ]
     },
     "execution_count": 28,
     "metadata": {},
     "output_type": "execute_result"
    }
   ],
   "source": [
    "s0 = pd.Series(range(3),index=['a', 'b', 'c'])\n",
    "s0"
   ]
  },
  {
   "cell_type": "code",
   "execution_count": 29,
   "metadata": {},
   "outputs": [
    {
     "data": {
      "text/plain": [
       "(0, 1)"
      ]
     },
     "execution_count": 29,
     "metadata": {},
     "output_type": "execute_result"
    }
   ],
   "source": [
    "s0.a, s0.b"
   ]
  },
  {
   "cell_type": "markdown",
   "metadata": {},
   "source": [
    "#### 시리즈와 딕셔너리\n",
    "시리즈는 인덱스의 이름(라벨)과 값이 한 쌍으로 이루어져서 관리되어 지는데, 이는 파이썬의 기본  \n",
    "자료구조인 키와 값을 한 쌍으로 딕셔너리와 비슷하다  \n",
    "\n",
    "시리즈 객체도 딕셔너리에서 사용가능한 `in` 연산과 `items()` 메서드를 사용할 수 있음"
   ]
  },
  {
   "cell_type": "code",
   "execution_count": 30,
   "metadata": {},
   "outputs": [
    {
     "data": {
      "text/plain": [
       "False"
      ]
     },
     "execution_count": 30,
     "metadata": {},
     "output_type": "execute_result"
    }
   ],
   "source": [
    "'이재용' in scores"
   ]
  },
  {
   "cell_type": "code",
   "execution_count": 32,
   "metadata": {},
   "outputs": [
    {
     "data": {
      "text/plain": [
       "True"
      ]
     },
     "execution_count": 32,
     "metadata": {},
     "output_type": "execute_result"
    }
   ],
   "source": [
    "'신짱구' in scores"
   ]
  },
  {
   "cell_type": "code",
   "execution_count": 33,
   "metadata": {},
   "outputs": [
    {
     "name": "stdout",
     "output_type": "stream",
     "text": [
      "김철수 :85\n",
      "신짱구 :70\n",
      "신짱아 :100\n",
      "최유리 :90\n",
      "봉미선 :55\n"
     ]
    }
   ],
   "source": [
    "for label, value in scores.items():\n",
    "    print(f'{label} :{value}')"
   ]
  },
  {
   "cell_type": "markdown",
   "metadata": {},
   "source": [
    "시리즈 객체는 딕셔너리 객체로 직접 생성할 수 있음  \n",
    "단, 딕셔너리 객체는 순서가 보장되지 않기 떄문에 순서를 결정하고 싶다면 `index` 매개변수에 순서를   \n",
    "정한 인덱스 배열 또는 리스트를 전달해야함\n"
   ]
  },
  {
   "cell_type": "code",
   "execution_count": 36,
   "metadata": {},
   "outputs": [
    {
     "data": {
      "text/plain": [
       "권지용     75\n",
       "김철수     90\n",
       "이재용    100\n",
       "홍길동     60\n",
       "dtype: int64"
      ]
     },
     "execution_count": 36,
     "metadata": {},
     "output_type": "execute_result"
    }
   ],
   "source": [
    "scores2 = pd.Series({'홍길동' : 60, '김철수' : 90, '이재용' : 100, '권지용' : 75},index = ['권지용', '김철수', '이재용', '홍길동'])\n",
    "scores2"
   ]
  },
  {
   "cell_type": "markdown",
   "metadata": {},
   "source": [
    "#### 인덱스 기반 연산\n",
    "두 시리즈 객체간에 연산을 진행하면 인덱스가 같은 데이터에 대해서만 연산을 진행함  \n",
    "시리즈 모두에 존재하지 않는 인덱스는 `NaN`으로 표시 됨"
   ]
  },
  {
   "cell_type": "code",
   "execution_count": 39,
   "metadata": {},
   "outputs": [
    {
     "data": {
      "text/plain": [
       "권지용      NaN\n",
       "김철수    175.0\n",
       "봉미선      NaN\n",
       "신짱구      NaN\n",
       "신짱아      NaN\n",
       "이재용      NaN\n",
       "최유리      NaN\n",
       "홍길동      NaN\n",
       "dtype: float64"
      ]
     },
     "execution_count": 39,
     "metadata": {},
     "output_type": "execute_result"
    }
   ],
   "source": [
    "score_sums = scores + scores2\n",
    "score_sums"
   ]
  },
  {
   "cell_type": "markdown",
   "metadata": {},
   "source": [
    "값들 끼리의 연산에서는 동일하게 존재하는 인덱스의 값들에 대해서만 나타남  \n",
    "길이가 다른 값들에 대해서는 연산 불가"
   ]
  },
  {
   "cell_type": "code",
   "execution_count": 40,
   "metadata": {},
   "outputs": [
    {
     "ename": "ValueError",
     "evalue": "operands could not be broadcast together with shapes (5,) (4,) ",
     "output_type": "error",
     "traceback": [
      "\u001b[1;31m---------------------------------------------------------------------------\u001b[0m",
      "\u001b[1;31mValueError\u001b[0m                                Traceback (most recent call last)",
      "Cell \u001b[1;32mIn[40], line 1\u001b[0m\n\u001b[1;32m----> 1\u001b[0m \u001b[43mscores\u001b[49m\u001b[38;5;241;43m.\u001b[39;49m\u001b[43mvalues\u001b[49m\u001b[43m \u001b[49m\u001b[38;5;241;43m+\u001b[39;49m\u001b[43m \u001b[49m\u001b[43mscores2\u001b[49m\u001b[38;5;241;43m.\u001b[39;49m\u001b[43mvalues\u001b[49m\n",
      "\u001b[1;31mValueError\u001b[0m: operands could not be broadcast together with shapes (5,) (4,) "
     ]
    }
   ],
   "source": [
    "scores.values + scores2.values"
   ]
  },
  {
   "cell_type": "markdown",
   "metadata": {},
   "source": [
    "시리즈 객체에서 값이 `NaN`인지 아닌지 구하려면 `notnull()` 메서드를 사용할 수 있음"
   ]
  }
 ],
 "metadata": {
  "kernelspec": {
   "display_name": "Python 3",
   "language": "python",
   "name": "python3"
  },
  "language_info": {
   "codemirror_mode": {
    "name": "ipython",
    "version": 3
   },
   "file_extension": ".py",
   "mimetype": "text/x-python",
   "name": "python",
   "nbconvert_exporter": "python",
   "pygments_lexer": "ipython3",
   "version": "3.12.2"
  }
 },
 "nbformat": 4,
 "nbformat_minor": 2
}
