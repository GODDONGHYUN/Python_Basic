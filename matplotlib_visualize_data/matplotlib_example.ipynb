{
 "cells": [
  {
   "cell_type": "code",
   "execution_count": null,
   "metadata": {},
   "outputs": [],
   "source": [
    "import numpy as np\n",
    "import pandas as pd \n",
    "import matplotlib as mpl\n",
    "import matplotlib.pyplot as plt\n",
    "import matplotlib.pylab as plb\n",
    "import seaborn"
   ]
  },
  {
   "cell_type": "code",
   "execution_count": null,
   "metadata": {},
   "outputs": [],
   "source": [
    "# matplotlib 한글 표시 설정\n",
    "import matplotlib.font_manager as fm\n",
    "\n",
    "# matplotlib의 글꼴 관리자에 특정 글꼴 추가\n",
    "fe = fm.FontEntry (\n",
    "    fname = r'font/NanumGothic.ttf',\n",
    "    name = 'NanumGothic'\n",
    ")\n",
    "fm.fontManager.ttflist.insert(0, fe)\n",
    "\n",
    "# pyplot에 matplotlib의 글꼴 관리자에 등록된 글꼴 적용\n",
    "plt.rcParams.update({'font.family': 'NanumGothic', 'font.size': 14})\n",
    "# pyplot에서 `-`를 문자로 취급하도록 설정\n",
    "plt.rcParams['axes.unicode_minus'] = False"
   ]
  },
  {
   "cell_type": "code",
   "execution_count": null,
   "metadata": {},
   "outputs": [],
   "source": [
    "iris = seaborn.load_dataset('iris') # 붓꽃 데이터\n",
    "titanic = seaborn.load_dataset('titanic') # 타이타닉 데이터\n",
    "tips = seaborn.load_dataset('tips') # 팁 데이터\n",
    "flight = seaborn.load_dataset('flights') # 여객기 데이터"
   ]
  },
  {
   "cell_type": "markdown",
   "metadata": {},
   "source": [
    "### seaborn을 활용한 1차원 분포 플롯\n",
    "seaborn 패키지에서 제공해주는 여러 가지 메서드를 활용하여 간단하게 1차원 분포 플롯을 표시 할 수 있음 "
   ]
  },
  {
   "cell_type": "markdown",
   "metadata": {},
   "source": [
    "#### 1차원 실수 분포 플롯\n",
    "seaborn 패키지는 히스토그램 형식과는 다른 커널 밀도, 러그 플롯을 제공함\n",
    "`rugplot()` : 데이터 위치를 x축 위에 작은 선분으로 표시 (러그 플롯)  \n",
    "`kdeplot()` : 히스토그램과 비슷하지만 곡선형태로 표시 (커널 플롯)  \n"
   ]
  },
  {
   "cell_type": "code",
   "execution_count": null,
   "metadata": {},
   "outputs": [],
   "source": [
    "data = iris.petal_length.values\n",
    "data"
   ]
  },
  {
   "cell_type": "code",
   "execution_count": null,
   "metadata": {},
   "outputs": [],
   "source": [
    "seaborn.rugplot(data)\n",
    "plt.title('러그 플롯')\n",
    "plt.grid(True)\n",
    "plt.show()"
   ]
  },
  {
   "cell_type": "code",
   "execution_count": null,
   "metadata": {},
   "outputs": [],
   "source": [
    "seaborn.kdeplot(data)\n",
    "plt.title(\"커널 밀도 플롯\")\n",
    "plt.grid(True)\n",
    "plt.show()"
   ]
  },
  {
   "cell_type": "markdown",
   "metadata": {},
   "source": [
    "### 카운트 \n",
    "seaborn 패키지의 `countplot()` 메서드로 각 카데고리 별 사이즈를 표시할 수 있음  \n",
    "`countplot()` 메서드는 데이터프레임만 사용가능  \n",
    "`countplot(x = '컬럼명', data = 데이터프레임)`"
   ]
  },
  {
   "cell_type": "code",
   "execution_count": null,
   "metadata": {},
   "outputs": [],
   "source": [
    "seaborn.countplot(x = 'embark_town', data = titanic)\n",
    "plt.title('타이타닉 카운트 플롯')"
   ]
  },
  {
   "cell_type": "code",
   "execution_count": null,
   "metadata": {},
   "outputs": [],
   "source": [
    "tips"
   ]
  },
  {
   "cell_type": "code",
   "execution_count": null,
   "metadata": {},
   "outputs": [],
   "source": [
    "seaborn.countplot(x = 'day', data = tips)\n",
    "plt.title('요일별 팁')\n",
    "plt.grid(True)\n",
    "plt.show()"
   ]
  },
  {
   "cell_type": "markdown",
   "metadata": {},
   "source": [
    "### seaborn을 활용한 다차원 데이터\n",
    "다차원 데이터는 3가지의 경우의 수를 가질 수 있음\n",
    "\n",
    "- 모든 데이터가 실수형  \n",
    "- 모든 데이터가 카테고리형  \n",
    "- 데이터가 실수형과 카테고리형이 섞여 있음"
   ]
  },
  {
   "cell_type": "markdown",
   "metadata": {},
   "source": [
    "### 2차원 실수형 데이터\n",
    "데이터가 2차원이면서 모두 실수이면 `jointplot()` 메서드를 사용하여 표현 할 수 있음  \n",
    "`jointplot()` : 스캐터 플롯, 등고선 플롯 등을 나타낼 수 있고 양측에 히스토그램을 표현해줌 (데이터 프레임만 사용가능)  "
   ]
  },
  {
   "cell_type": "code",
   "execution_count": null,
   "metadata": {},
   "outputs": [],
   "source": [
    "iris"
   ]
  },
  {
   "cell_type": "code",
   "execution_count": null,
   "metadata": {},
   "outputs": [],
   "source": [
    "seaborn.jointplot(data = iris, x = 'sepal_length', y = 'sepal_width', kind = 'scatter') # scatter : 스캐터 플롯\n",
    "plt.suptitle('꽃 받침의 길리와 넓이 비교 Joint plot', y = 1.02)\n",
    "plt.grid(True)\n",
    "plt.show()"
   ]
  },
  {
   "cell_type": "code",
   "execution_count": null,
   "metadata": {},
   "outputs": [],
   "source": [
    "seaborn.jointplot(data = iris, x = 'sepal_length', y = 'sepal_width', kind = 'kde')  # kde : 커널밀도 히스토그램 그림\n",
    "plt.suptitle('꽃 받침의 길리와 넓이 비교 Joint plot', y = 1.02)\n",
    "plt.grid(True)\n",
    "plt.show()"
   ]
  },
  {
   "cell_type": "markdown",
   "metadata": {},
   "source": [
    "### 다차원 실수형 데이터\n",
    "3차원 이상의 데이터라면 `pairplot()` 메서드로 그리드 형태의 스캐터 플롯의 행렬을 만들어 줌  \n",
    "같은 데이터가 만나는 대각선에는 각 데이터의 히스토그램을 표현 "
   ]
  },
  {
   "cell_type": "code",
   "execution_count": null,
   "metadata": {},
   "outputs": [],
   "source": [
    "seaborn.pairplot(iris)\n",
    "plt.title('다차원 Pari plot')\n",
    "plt.grid(True)\n",
    "plt.show()"
   ]
  },
  {
   "cell_type": "markdown",
   "metadata": {},
   "source": [
    "카테고리형 데이터가 포함되어 있는 경우라면 hue 인수에 카테고리 변수 이름을 지정함"
   ]
  },
  {
   "cell_type": "code",
   "execution_count": null,
   "metadata": {},
   "outputs": [],
   "source": [
    "seaborn.pairplot(iris, hue='species', markers=['o', 's', 'D'])\n",
    "plt.suptitle('다차원 Pair plot', y=1.02)\n",
    "plt.show()"
   ]
  },
  {
   "cell_type": "markdown",
   "metadata": {},
   "source": [
    "### 2차원 카테고리 데이터 \n",
    "데이터가 2차원이고 모든 값이 카테고리 값이면 `heatmap` 명령을 사용"
   ]
  },
  {
   "cell_type": "code",
   "execution_count": null,
   "metadata": {},
   "outputs": [],
   "source": [
    "titanic_size  = titanic.pivot_table(\n",
    "index = 'class', columns=\"sex\", aggfunc=\"size\")\n",
    "titanic_size\n"
   ]
  },
  {
   "cell_type": "code",
   "execution_count": null,
   "metadata": {},
   "outputs": [],
   "source": [
    "seaborn.heatmap(titanic_size, cmap = seaborn.light_palette('gray' ,as_cmap = True), \n",
    "annot = True, fmt = 'd' )\n",
    "plt.title('히트맵')\n",
    "plt.show()"
   ]
  },
  {
   "cell_type": "markdown",
   "metadata": {},
   "source": [
    "### 2차원 복합 데이터\n",
    "데이터가 2차원이면서 실수 값과 카테고리 값이 섞여 있다면 기존 플롯 외의 다른 플롯을 사용 할 수 있음"
   ]
  },
  {
   "cell_type": "markdown",
   "metadata": {},
   "source": [
    "`barplot` : 카테고리 값에 따른 실수 값의 평균과 표준 편차를 바 형태로 표시  \n",
    "평균은 막대 그래프로, 편차는 에러바로 표현"
   ]
  },
  {
   "cell_type": "code",
   "execution_count": null,
   "metadata": {},
   "outputs": [],
   "source": [
    "seaborn.barplot(data = tips, x = 'day', y = 'total_bill' )\n",
    "plt.title('바 플롯')\n",
    "plt.grid(True)\n",
    "plt.show()"
   ]
  },
  {
   "cell_type": "markdown",
   "metadata": {},
   "source": [
    "`boxplot()` : 사분위수와 아웃라이어라는 데이터를 표현하는 방법"
   ]
  },
  {
   "cell_type": "code",
   "execution_count": null,
   "metadata": {},
   "outputs": [],
   "source": [
    "seaborn.boxplot(data = tips, x = 'day', y = 'total_bill')\n",
    "plt.title('박스 플롯')\n",
    "plt.grid(True)\n",
    "plt.show()"
   ]
  },
  {
   "cell_type": "markdown",
   "metadata": {},
   "source": [
    "`violinplot()` : 세로 방향으로 커널 밀도 히스토그램을 그려줌 "
   ]
  },
  {
   "cell_type": "code",
   "execution_count": null,
   "metadata": {},
   "outputs": [],
   "source": [
    "seaborn.violinplot(data = tips, x = 'day', y = 'total_bill')\n",
    "plt.title('바이올린 플롯')\n",
    "plt.grid(True)\n",
    "plt.show()"
   ]
  },
  {
   "cell_type": "markdown",
   "metadata": {},
   "source": [
    "`stripplot`은 마치 스캐터 플롯처럼 모든 데이터를 점으로 그려준다. `jitter=True`를 설정하면 가로축상의 위치를 무작위로 바꾸어서 데이터의 수가 많을 경우에 겹치지 않도록 함"
   ]
  },
  {
   "cell_type": "code",
   "execution_count": null,
   "metadata": {},
   "outputs": [],
   "source": [
    "np.random.seed(0)\n",
    "seaborn.stripplot(x=\"day\", y=\"total_bill\", data=tips, jitter=True)\n",
    "plt.title(\"스트립 플롯\")\n",
    "plt.grid(True)\n",
    "plt.show()"
   ]
  },
  {
   "cell_type": "markdown",
   "metadata": {},
   "source": [
    "`swarmplot`은 `stripplot`과 비슷하지만 데이터를 나타내는 점이 겹치지 않도록 옆으로 이동"
   ]
  },
  {
   "cell_type": "code",
   "execution_count": null,
   "metadata": {},
   "outputs": [],
   "source": [
    "seaborn.swarmplot(x=\"day\", y=\"total_bill\", data=tips)\n",
    "plt.title(\"스왐 플롯\")\n",
    "plt.grid(True)\n",
    "plt.show()"
   ]
  },
  {
   "cell_type": "markdown",
   "metadata": {},
   "source": [
    "### Seaborn 활용 다차원 복합 데이터"
   ]
  },
  {
   "cell_type": "markdown",
   "metadata": {},
   "source": [
    "seaborn에서 제공해주는 플롯 메서드들은 `hue`인수로 카테고리 값을 추가로 지정할 수 있음"
   ]
  },
  {
   "cell_type": "code",
   "execution_count": null,
   "metadata": {},
   "outputs": [],
   "source": [
    "seaborn.barplot(x=\"day\", y=\"total_bill\", hue=\"sex\", data=tips)\n",
    "plt.title(\"요일 별, 성별 전체 팁의 Histogram\")\n",
    "plt.grid(True)\n",
    "plt.show()"
   ]
  },
  {
   "cell_type": "code",
   "execution_count": null,
   "metadata": {},
   "outputs": [],
   "source": [
    "seaborn.boxplot(data = tips, x = 'day', y = 'total_bill', hue ='sex')\n",
    "plt.title('박스 플롯')\n",
    "plt.grid(True)\n",
    "plt.show()"
   ]
  },
  {
   "cell_type": "code",
   "execution_count": null,
   "metadata": {},
   "outputs": [],
   "source": [
    "seaborn.violinplot(data = tips, x = 'day', y = 'total_bill' , hue = 'sex')\n",
    "plt.title('바이올린 플롯')\n",
    "plt.grid(True)\n",
    "plt.show()"
   ]
  },
  {
   "cell_type": "markdown",
   "metadata": {},
   "source": [
    "`stipplot()` , `swarmplot()` , `violinplot()`은 `split`, `dodge` 인수로  \n",
    "시각화 방법을 변경 할 수 있음"
   ]
  },
  {
   "cell_type": "code",
   "execution_count": null,
   "metadata": {},
   "outputs": [],
   "source": [
    "seaborn.violinplot(data = tips, x = 'day', y = 'total_bill' , hue = 'sex', split = True)\n",
    "plt.title('바이올린 플롯')\n",
    "plt.grid(True)\n",
    "plt.show()"
   ]
  },
  {
   "cell_type": "code",
   "execution_count": null,
   "metadata": {},
   "outputs": [],
   "source": [
    "seaborn.swarmplot(data=tips, x=\"day\", y=\"total_bill\", hue = 'sex', dodge = True)\n",
    "plt.title(\"스왐 플롯\")\n",
    "plt.grid(True)\n",
    "plt.show()"
   ]
  },
  {
   "cell_type": "markdown",
   "metadata": {},
   "source": [
    "`heatmap`으로도 두 개의 카테고리 값에 의한 실수 값 변화를 볼 수 있음"
   ]
  },
  {
   "cell_type": "code",
   "execution_count": null,
   "metadata": {},
   "outputs": [],
   "source": [
    "passenger = flight.pivot(index = 'month', columns = 'year', values = 'passengers')\n",
    "\n",
    "plt.title('히트맵으로 두 개의 카테고리 값 비교')\n",
    "seaborn.heatmap(passenger, annot = True,fmt=\"d\", linewidths=1)\n",
    "plt.show()"
   ]
  },
  {
   "cell_type": "markdown",
   "metadata": {},
   "source": [
    "### seaborn을 활용한 catplot\n",
    "색상과 행을 사용해서 3개 이상의 카테고리 값의 분포를 표현"
   ]
  },
  {
   "cell_type": "code",
   "execution_count": null,
   "metadata": {},
   "outputs": [],
   "source": [
    "data = titanic[titanic.survived.notnull()]\n",
    "\n",
    "seaborn.catplot(data = data, x = 'age', y = 'sex', hue = 'survived', row = 'class',\n",
    "kind = 'violin', split = True, height = 2, aspect= 4 )\n",
    "plt.suptitle('캣 플롯', y = 1.05)\n",
    "plt.show()"
   ]
  },
  {
   "cell_type": "markdown",
   "metadata": {},
   "source": [
    "### seaborn을 활용한 차트 겹치기\n",
    "시각적 효과를 높히기 위해 여러 종류의 차트를 겹쳐서 표기 가능"
   ]
  },
  {
   "cell_type": "code",
   "execution_count": null,
   "metadata": {},
   "outputs": [],
   "source": [
    "plt.title('박스 플롯 + 스트립 플롯')\n",
    "seaborn.boxplot(data = tips, x = 'tip' , y = 'day' , whis = np.inf)\n",
    "seaborn.stripplot(data = tips, x = 'tip', y = 'day')\n",
    "plt.grid(True)\n",
    "plt.show()"
   ]
  },
  {
   "cell_type": "code",
   "execution_count": null,
   "metadata": {},
   "outputs": [],
   "source": [
    "plt.title(\"바이올린 플롯 + 스웜 플롯\")\n",
    "seaborn.violinplot(x=\"day\", y=\"total_bill\", data=tips, inner=None)\n",
    "seaborn.swarmplot(x=\"day\", y=\"total_bill\", data=tips, color=\"0.9\")\n",
    "plt.grid(True)\n",
    "plt.show()"
   ]
  },
  {
   "cell_type": "markdown",
   "metadata": {},
   "source": [
    "### seaborn을 활용한 스타일 변경\n",
    "seaborn 패키지는 matplotlib에서 제공하는 기본 스타일이 아닌 특정 스타일로  \n",
    "변경할 수 있도록 함\n",
    "`set()` 메서드로 색상, 틱 스타일 등을 변경할 수 있음  \n",
    "`set_style()` 메서드로 틱 스타일 변경할 수 있음"
   ]
  },
  {
   "cell_type": "code",
   "execution_count": null,
   "metadata": {},
   "outputs": [],
   "source": [
    "def sinplot(flip = 1):\n",
    "    x = np.linspace(0, 14, 100)\n",
    "    for number in range(1, 7):\n",
    "        plt.plot(x, np.sin(x + number * 0.5) * (7 - number) * flip)\n",
    "        "
   ]
  },
  {
   "cell_type": "code",
   "execution_count": null,
   "metadata": {},
   "outputs": [],
   "source": [
    "seaborn.set_style('darkgrid')\n",
    "sinplot()"
   ]
  },
  {
   "cell_type": "markdown",
   "metadata": {},
   "source": [
    "### pandas 패키지의 시각화 기능\n",
    "pandas 패키지의 series, dataframe 객체는 자체적으로 plot 메서드를 이용해서 시각화를 할 수 있음  \n",
    "`plot()` 메서드의 `kind` 인수로 표현할 플롯을 지정할 수 있음  \n",
    "또는 plot 속성의 각 차트 메서드로 바로 특정 플롯으로 표현할 수 있음"
   ]
  },
  {
   "cell_type": "code",
   "execution_count": null,
   "metadata": {},
   "outputs": [],
   "source": [
    "df = pd.DataFrame(np.random.randn(100, 3),\n",
    "index = pd.date_range('2024-03-05', periods = 100),\n",
    "columns = ['A', 'B', 'C']).cumsum()\n",
    "\n",
    "df"
   ]
  },
  {
   "cell_type": "code",
   "execution_count": null,
   "metadata": {},
   "outputs": [],
   "source": [
    "df.plot()\n",
    "plt.title('데이터프레임 선 그래프')\n",
    "plt.xlabel('시간')\n",
    "plt.ylabel('Data')\n",
    "plt.show()"
   ]
  },
  {
   "cell_type": "code",
   "execution_count": null,
   "metadata": {},
   "outputs": [],
   "source": [
    "data = iris.sepal_length[:20]\n",
    "data.plot.bar(rot = 0)\n",
    "plt.title('시리즈 바 차트')\n",
    "plt.xlabel('Data')\n",
    "plt.ylabel('꽃받침 길이')\n",
    "plt.show()"
   ]
  },
  {
   "cell_type": "code",
   "execution_count": null,
   "metadata": {},
   "outputs": [],
   "source": [
    "data = iris[:5]\n",
    "data.plot.bar(rot = 0)\n",
    "plt.xlabel('Data')\n",
    "plt.ylabel('Feature')\n",
    "plt.ylim(0, 7)\n",
    "plt.show()"
   ]
  },
  {
   "cell_type": "code",
   "execution_count": null,
   "metadata": {},
   "outputs": [],
   "source": [
    "data = iris.groupby(iris.species).mean()\n",
    "data.columns.name = 'feature'\n",
    "data.plot.bar(rot = 0)\n",
    "plt.title('각 종의 feature 별 평균')\n",
    "plt.xlabel('평균')\n",
    "plt.ylabel('종')\n",
    "plt.ylim(0, 10)\n",
    "plt.grid(True)\n",
    "plt.show()"
   ]
  },
  {
   "cell_type": "code",
   "execution_count": null,
   "metadata": {},
   "outputs": [],
   "source": [
    "data = titanic.pclass.value_counts()\n",
    "data.plot.pie(autopct = '%.2f%%')\n",
    "plt.title('선실별 승객 수 비율')\n",
    "plt.axis('equal')\n",
    "plt.grid(True)\n",
    "plt.show()"
   ]
  },
  {
   "cell_type": "code",
   "execution_count": null,
   "metadata": {},
   "outputs": [],
   "source": [
    "iris.plot.hist()\n",
    "plt.title('각 feature 값들의 빈도 수 히스토그램')\n",
    "plt.xlabel('Data')\n",
    "plt.show()"
   ]
  },
  {
   "cell_type": "code",
   "execution_count": null,
   "metadata": {},
   "outputs": [],
   "source": [
    "iris.plot.kde()\n",
    "plt.title('각 feature 값들의 빈도 수 커널 분포 플롯')\n",
    "plt.xlabel('Data')\n",
    "plt.show()"
   ]
  },
  {
   "cell_type": "code",
   "execution_count": 66,
   "metadata": {},
   "outputs": [
    {
     "data": {
      "image/png": "[encoded data removed]",
      "text/plain": [
       "<Figure size 640x480 with 1 Axes>"
      ]
     },
     "metadata": {},
     "output_type": "display_data"
    }
   ],
   "source": [
    "iris.plot.box()\n",
    "plt.title('각 feature 값들의 빈도수 박스 플롯')\n",
    "plt.xlabel('Data')\n",
    "plt.grid(True)\n",
    "plt.show()"
   ]
  },
  {
   "cell_type": "code",
   "execution_count": 71,
   "metadata": {},
   "outputs": [
    {
     "data": {
      "image/png": "[encoded data removed]",
      "text/plain": [
       "<Figure size 640x480 with 4 Axes>"
      ]
     },
     "metadata": {},
     "output_type": "display_data"
    }
   ],
   "source": [
    "iris.boxplot(by='species')\n",
    "plt.tight_layout(pad=3, h_pad=1)\n",
    "plt.title(\"각 Feature의 종 별 데이터에 대한 Box Plot\")\n",
    "plt.show()"
   ]
  }
 ],
 "metadata": {
  "kernelspec": {
   "display_name": "Python 3",
   "language": "python",
   "name": "python3"
  },
  "language_info": {
   "codemirror_mode": {
    "name": "ipython",
    "version": 3
   },
   "file_extension": ".py",
   "mimetype": "text/x-python",
   "name": "python",
   "nbconvert_exporter": "python",
   "pygments_lexer": "ipython3",
   "version": "3.12.2"
  }
 },
 "nbformat": 4,
 "nbformat_minor": 2
}
