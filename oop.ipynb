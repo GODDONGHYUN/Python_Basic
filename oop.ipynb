{
 "cells": [
  {
   "cell_type": "code",
   "execution_count": 1,
   "metadata": {},
   "outputs": [],
   "source": [
    "# 객체 \n",
    "# 데이터와 데이터를 조작하는 행위의 집합"
   ]
  },
  {
   "cell_type": "code",
   "execution_count": 22,
   "metadata": {},
   "outputs": [],
   "source": [
    "class Ractangle():\n",
    "    def __init__(self, width, height):\n",
    "        self.width = width\n",
    "        self.height = height\n",
    "\n",
    "    def getArea(self):\n",
    "        return self.height * self.width"
   ]
  },
  {
   "cell_type": "code",
   "execution_count": 19,
   "metadata": {},
   "outputs": [
    {
     "data": {
      "text/plain": [
       "<__main__.Ractangle at 0x25026f2bf20>"
      ]
     },
     "execution_count": 19,
     "metadata": {},
     "output_type": "execute_result"
    }
   ],
   "source": [
    "ractangle = Ractangle(10, 20)\n",
    "ractangle"
   ]
  },
  {
   "cell_type": "code",
   "execution_count": 20,
   "metadata": {},
   "outputs": [
    {
     "data": {
      "text/plain": [
       "10"
      ]
     },
     "execution_count": 20,
     "metadata": {},
     "output_type": "execute_result"
    }
   ],
   "source": [
    "ractangle.width"
   ]
  },
  {
   "cell_type": "code",
   "execution_count": 21,
   "metadata": {},
   "outputs": [
    {
     "data": {
      "text/plain": [
       "200"
      ]
     },
     "execution_count": 21,
     "metadata": {},
     "output_type": "execute_result"
    }
   ],
   "source": [
    "ractangle.getArea()"
   ]
  },
  {
   "cell_type": "code",
   "execution_count": null,
   "metadata": {},
   "outputs": [],
   "source": [
    "#  사각 기둥의 부피를 계산하기 위한 클래스(Heaxhedron)를 만든다. 이 클래스는 다음과 같은 속성을 가진다.\n",
    "\n",
    "# - 밑면의 가로 길이 `a`, 밑면의 세로 길이 `b`, 높이 `h`\n",
    "# - 부피를 계산하는 메서드 `volume`\n",
    "# - 겉넓이를 계산하는 메서드 `surface` \n",
    "\n",
    "# 밑변의 가로길이 * 밑면의 세로길이 * 높이 \n",
    "# 2 * 밑면의 가로길이 * 밑 면의 세로길이 + 2 * 밑면의 가로길이 * 높이 + 2 *\n",
    "# 밑면의 세로길이 * 높이 -> 2 * (밑면의 가로길이 * 밑면의 세로길이 + 밑면의 가로길이 * 높이 + 밑면의 세로길이)"
   ]
  },
  {
   "cell_type": "code",
   "execution_count": 35,
   "metadata": {},
   "outputs": [],
   "source": [
    "class Hexahedron():  # 클래스\n",
    "    def __init__(self, a, b, h): # 속성 정의  - > self는 this\n",
    "        self.a = a   # 밑면의 가로 길이\n",
    "        self.b = b    # 밑면의 세로 길이\n",
    "        self.h = h    # 높이\n",
    "\n",
    "    def getVolume(self):\n",
    "        return self.a * self.b * self.h\n",
    "    \n",
    "    def getSurface(self):\n",
    "        a = self.a * self.b\n",
    "        b = self.a * self.h\n",
    "        c = self.b * self.h\n",
    "        return 2 * (a + b + c)"
   ]
  },
  {
   "cell_type": "code",
   "execution_count": 39,
   "metadata": {},
   "outputs": [
    {
     "data": {
      "text/plain": [
       "<__main__.Hexahedron at 0x25026ebaa50>"
      ]
     },
     "execution_count": 39,
     "metadata": {},
     "output_type": "execute_result"
    }
   ],
   "source": [
    "hexahedron = Hexahedron(4,6,8)\n",
    "hexahedron"
   ]
  },
  {
   "cell_type": "code",
   "execution_count": 40,
   "metadata": {},
   "outputs": [
    {
     "data": {
      "text/plain": [
       "8"
      ]
     },
     "execution_count": 40,
     "metadata": {},
     "output_type": "execute_result"
    }
   ],
   "source": [
    "hexahedron.h"
   ]
  },
  {
   "cell_type": "code",
   "execution_count": 41,
   "metadata": {},
   "outputs": [
    {
     "data": {
      "text/plain": [
       "192"
      ]
     },
     "execution_count": 41,
     "metadata": {},
     "output_type": "execute_result"
    }
   ],
   "source": [
    "hexahedron.getVolume()"
   ]
  },
  {
   "cell_type": "code",
   "execution_count": 42,
   "metadata": {},
   "outputs": [
    {
     "data": {
      "text/plain": [
       "208"
      ]
     },
     "execution_count": 42,
     "metadata": {},
     "output_type": "execute_result"
    }
   ],
   "source": [
    "hexahedron.getSurface()"
   ]
  },
  {
   "cell_type": "code",
   "execution_count": null,
   "metadata": {},
   "outputs": [],
   "source": []
  }
 ],
 "metadata": {
  "kernelspec": {
   "display_name": "Python 3",
   "language": "python",
   "name": "python3"
  },
  "language_info": {
   "codemirror_mode": {
    "name": "ipython",
    "version": 3
   },
   "file_extension": ".py",
   "mimetype": "text/x-python",
   "name": "python",
   "nbconvert_exporter": "python",
   "pygments_lexer": "ipython3",
   "version": "3.12.2"
  }
 },
 "nbformat": 4,
 "nbformat_minor": 2
}
