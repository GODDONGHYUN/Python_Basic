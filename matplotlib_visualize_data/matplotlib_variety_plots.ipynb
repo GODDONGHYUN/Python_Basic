{
 "cells": [
  {
   "cell_type": "code",
   "execution_count": null,
   "metadata": {},
   "outputs": [],
   "source": [
    "import matplotlib as mpl\n",
    "import matplotlib.pylab as plt"
   ]
  },
  {
   "cell_type": "markdown",
   "metadata": {},
   "source": [
    "### 바 차트 (막대 그래프)\n",
    "x 축의 값이 분류가 가능한 카테고리 형태일 때 `bar()`, `barh()` 메서드로 막대 그래프를 표시할 수 있음  \n",
    "주의! bar 메서드는 x축의 값이 첫 번째 인수로 옴"
   ]
  },
  {
   "cell_type": "code",
   "execution_count": null,
   "metadata": {},
   "outputs": [],
   "source": [
    "# matplotlib 한글 표시 설정\n",
    "import matplotlib.font_manager as fm\n",
    "\n",
    "# matplotlib의 글꼴 관리자에 특정 글꼴 추가\n",
    "fe = fm.FontEntry (\n",
    "    fname = r'font/NanumGothic.ttf',\n",
    "    name = 'NanumGothic'\n",
    ")\n",
    "fm.fontManager.ttflist.insert(0, fe)\n",
    "\n",
    "# pyplot에 matplotlib의 글꼴 관리자에 등록된 글꼴 적용\n",
    "plt.rcParams.update({'font.family': 'NanumGothic', 'font.size': 14})\n",
    "# pyplot에서 `-`를 문자로 취급하도록 설정\n",
    "plt.rcParams['axes.unicode_minus'] = False"
   ]
  },
  {
   "cell_type": "code",
   "execution_count": null,
   "metadata": {},
   "outputs": [],
   "source": [
    "import pandas as pd\n",
    "import numpy as np"
   ]
  },
  {
   "cell_type": "code",
   "execution_count": null,
   "metadata": {},
   "outputs": [],
   "source": [
    "y = [2, 3, 1]\n",
    "x = [1, 2, 3]\n",
    "xlabel = ['가', '나', '다'] \n",
    "\n",
    "plt.bar(x, y)\n",
    "plt.xticks(x, xlabel)\n",
    "plt.yticks(sorted(y))\n",
    "plt.show()"
   ]
  },
  {
   "cell_type": "markdown",
   "metadata": {},
   "source": [
    "`xerr` , `yerr` 인수를 지정하면 에러 바를 추가할 수 있음  \n",
    "`alpha` 인수를 지정하면 바의 투명도를 지정할 수 있음 (0 : 완전 투명, 1 : 완전 불투명)"
   ]
  },
  {
   "cell_type": "code",
   "execution_count": null,
   "metadata": {},
   "outputs": [],
   "source": [
    "np.random.seed(0)\n",
    "\n",
    "people = ['몽룡', '춘향', '방자', '향단']\n",
    "y_position = np.arange(4)\n",
    "y_performance = 3 + 10 * np.random.rand(4)\n",
    "error = np.random.rand(4)\n",
    "\n",
    "plt.title('Bar h')\n",
    "plt.barh(y_position, y_performance, xerr = error, alpha = 0.4)\n",
    "plt.yticks(y_position, people)\n",
    "plt.xlabel('x 축')\n",
    "plt.grid(True)\n",
    "plt.show()"
   ]
  },
  {
   "cell_type": "markdown",
   "metadata": {},
   "source": [
    "### 스템 플롯\n",
    "이산확률이나 자기 상관관계를 표현 하고자 할 때 사용하는 차트  \n",
    "`stem()` 메서드로 표시할 수 있음"
   ]
  },
  {
   "cell_type": "code",
   "execution_count": null,
   "metadata": {},
   "outputs": [],
   "source": [
    "x = np.linspace(0.1, 2 * np.pi, 10)\n",
    "plt.title('스템 플롯')\n",
    "plt.stem(x, np.cos(x), '-.')\n",
    "plt.grid(True)\n",
    "plt.show"
   ]
  },
  {
   "cell_type": "markdown",
   "metadata": {},
   "source": [
    "### 파이차트 \n",
    "각 분류가 전체에서 얼만큼 차지하고 있는지 파악하려 할 때 사용하는 차트  \n",
    "`pie()` 메서드로 표현할 수 있음  \n",
    "주의! 차트가 원형태를 유지할 수 있게 하려면 `axis('equal')`을 지정해야함"
   ]
  },
  {
   "cell_type": "code",
   "execution_count": null,
   "metadata": {},
   "outputs": [],
   "source": [
    "labels = ['개구리', '돼지', '개', '고양이']\n",
    "sizes = [15, 30, 45, 10]\n",
    "colors = ['yellowgreen', 'gold', 'lightskyblue','lightcoral']\n",
    "explode = (0, 0, 0, 0)\n",
    "\n",
    "plt.title('파이차트')\n",
    "plt.pie(sizes, explode = explode, labels = labels, colors= colors, \n",
    "autopct = '%1.1f%%', shadow = True, startangle = 90)\n",
    "plt.axis('equal')\n",
    "plt.show()"
   ]
  },
  {
   "cell_type": "markdown",
   "metadata": {},
   "source": [
    "### 히스토그램 \n",
    "특정 구간을 정하여 그 구간에 대한 집계 데이터를 표시할 때 사용하는 차트  \n",
    "`hist()` 메서드로 표시할 수 있음  \n",
    "`bins()` 인수로 집계할 구간의 정보를 받음"
   ]
  },
  {
   "cell_type": "code",
   "execution_count": null,
   "metadata": {},
   "outputs": [],
   "source": [
    "x = np.random.randn(1000)\n",
    "\n",
    "plt.title('히스토그램')\n",
    "arrays, bins, patches = plt.hist(x, bins = 10)\n",
    "plt.grid(True)\n",
    "plt.show()"
   ]
  },
  {
   "cell_type": "code",
   "execution_count": null,
   "metadata": {},
   "outputs": [],
   "source": [
    "arrays"
   ]
  },
  {
   "cell_type": "code",
   "execution_count": null,
   "metadata": {},
   "outputs": [],
   "source": [
    "bins"
   ]
  },
  {
   "cell_type": "code",
   "execution_count": null,
   "metadata": {},
   "outputs": [],
   "source": [
    "patches"
   ]
  },
  {
   "cell_type": "markdown",
   "metadata": {},
   "source": [
    "### 스캐터 플롯\n",
    "두 변수 간의 상관관계를 나타내고자 할 때 사용하는 차트  \n",
    "`scatter()` 메서드로 표현할 수 있음  \n",
    "점 하나의 위치는 x, y 값으로 표현됨"
   ]
  },
  {
   "cell_type": "code",
   "execution_count": null,
   "metadata": {},
   "outputs": [],
   "source": [
    "x = np.random.normal(0, 1, 100)\n",
    "y = np.random.normal(0, 1, 100)\n",
    "\n",
    "plt.title('스캐터 플롯')\n",
    "plt.scatter(x, y)\n",
    "plt.grid(True)\n",
    "plt.show()"
   ]
  },
  {
   "cell_type": "markdown",
   "metadata": {},
   "source": [
    "만약 x에 대하여 여러 변수를 한 차트로 비교 하고자 할 때 점의 크기 혹은 색상으로  \n",
    "추가 표현 할 수 있음  \n",
    "`scatter()` 메서드의 `c`인수로 색상을, `s` 인수로 크기를 지정할 수 있음"
   ]
  },
  {
   "cell_type": "code",
   "execution_count": null,
   "metadata": {},
   "outputs": [],
   "source": [
    "n = 30\n",
    "x = np.random.rand(n)\n",
    "y1 = np.random.rand(n)\n",
    "y2 = np.random.rand(n)\n",
    "y3 = np.pi * (15 * np.random.rand(n)) ** 2\n",
    "\n",
    "plt.title('버블 차트')\n",
    "plt.scatter(x, y1, c = y2, s = y3)\n",
    "plt.grid()\n",
    "plt.show()"
   ]
  },
  {
   "cell_type": "markdown",
   "metadata": {},
   "source": [
    "### Imshow \n",
    "이미지 데이터 처럼 행과 열을 가진 2차원 데이터에 대하여 각 행렬 값을 색으로  \n",
    "표현하는 차트  \n",
    "`imshow()` 메서드로 표현할 수 있음"
   ]
  },
  {
   "cell_type": "code",
   "execution_count": null,
   "metadata": {},
   "outputs": [],
   "source": [
    "# pip install scikit-learn 후에 실행\n",
    "from sklearn.datasets import load_digits"
   ]
  },
  {
   "cell_type": "code",
   "execution_count": null,
   "metadata": {},
   "outputs": [],
   "source": [
    "digits = load_digits()\n",
    "x = digits.images[0]\n",
    "x"
   ]
  },
  {
   "cell_type": "code",
   "execution_count": null,
   "metadata": {},
   "outputs": [],
   "source": [
    "plt.title('mnist digits; 0')\n",
    "plt.imshow(x, interpolation = 'nearest', cmap = plt.cm.bone_r)\n",
    "plt.subplots_adjust(left = 0.35, right = 0.65, bottom = 0.35, top = 0.65)\n",
    "plt.xticks([])\n",
    "plt.yticks([])\n",
    "plt.show()"
   ]
  },
  {
   "cell_type": "markdown",
   "metadata": {},
   "source": [
    "`cmap` 인수로 데이터를 표현하는 칼라맵을 지정할 수 있음  \n",
    "`interpolation` 인수로 데이터의 시각화 표현을 지정할 수 있음"
   ]
  },
  {
   "cell_type": "code",
   "execution_count": null,
   "metadata": {},
   "outputs": [],
   "source": [
    "figure, axes = plt.subplots(1, 4, figsize = (12, 3), subplot_kw = {\n",
    "'xticks' : [], 'yticks' : []})\n",
    "axes[0].set_title('color map Blues')\n",
    "axes[0].imshow(x, interpolation = 'nearset', cmap = plt.cm.Blues)\n",
    "\n",
    "axes[1].set_title('color map Blues r')\n",
    "axes[1].imshow(x, interpolation = 'nearset', cmap = plt.cm.Blues)\n",
    "\n",
    "axes[2].set_title('interpolation none')\n",
    "axes[2].imshow(x, interpolation = 'none', cmap = plt.cm.Blues)\n",
    "\n",
    "axes[3].set_title('interpolation kaiser')\n",
    "axes[3].imshow(x, interpolation = 'kaiser', cmap = plt.cm.Blues)"
   ]
  }
 ],
 "metadata": {
  "kernelspec": {
   "display_name": "Python 3",
   "language": "python",
   "name": "python3"
  },
  "language_info": {
   "codemirror_mode": {
    "name": "ipython",
    "version": 3
   },
   "file_extension": ".py",
   "mimetype": "text/x-python",
   "name": "python",
   "nbconvert_exporter": "python",
   "pygments_lexer": "ipython3",
   "version": "3.12.2"
  }
 },
 "nbformat": 4,
 "nbformat_minor": 2
}
