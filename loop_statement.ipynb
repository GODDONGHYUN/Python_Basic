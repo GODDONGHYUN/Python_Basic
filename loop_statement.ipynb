{
 "cells": [
  {
   "cell_type": "code",
   "execution_count": 1,
   "metadata": {},
   "outputs": [],
   "source": [
    "# 반복문\n",
    "# for 반복문 : 반복할 횟수가 정해져있는 반복 작업에서 사용\n",
    "# for 변수 in range(반복횟수)\n",
    "#       반복할 실행문"
   ]
  },
  {
   "cell_type": "code",
   "execution_count": 9,
   "metadata": {},
   "outputs": [
    {
     "name": "stdout",
     "output_type": "stream",
     "text": [
      "[0, 1, 2, 3, 4]\n",
      "0\n",
      "1\n",
      "2\n",
      "3\n",
      "4\n",
      "5\n",
      "6\n",
      "7\n",
      "8\n",
      "9\n",
      "5\n",
      "8\n",
      "10\n",
      "9\n",
      "8\n",
      "7\n",
      "6\n",
      "5\n",
      "4\n",
      "3\n",
      "2\n",
      "1\n",
      "0\n"
     ]
    }
   ],
   "source": [
    "# for (int index = 0; index < 5 ; index++)  {} - 이 형태가 아님 !\n",
    "\n",
    "# int[] array = int{0, 1, 2, 3, 4}\n",
    "# for (int index : array) {} -  이 형태가 맞음 !\n",
    "\n",
    "# range(정수)  : 0부터 정수만큼의 길이를 가지는 정수 리스트 생성\n",
    "# range(시작 정수, 종료 정수) : 시작 정수부터 종료 정수까지의 정수 리스트 생성\n",
    "# range(시작 정수, 종료 정수, 차이정수) : 시작 정수부터 종료 정수 -1 가지의 정수 리스트를 생성하는데 차이정수만큼의 차이를 가지며 변경됨\n",
    "print(list(range(5)))\n",
    "\n",
    "for index in range(5):\n",
    "    print(index)\n",
    "   \n",
    "\n",
    "for index in range(5, 10):\n",
    "    print(index)\n",
    "    \n",
    "\n",
    "for index in range(5, 10, 3):\n",
    "    print(index)\n",
    "   \n",
    "\n",
    "for index in range(10, -1, -1):\n",
    "    print(index)\n",
    "   "
   ]
  },
  {
   "cell_type": "code",
   "execution_count": 29,
   "metadata": {},
   "outputs": [
    {
     "name": "stdout",
     "output_type": "stream",
     "text": [
      "*\n",
      "**\n",
      "***\n",
      "****\n",
      "*****\n",
      "******\n",
      "*******\n",
      "********\n",
      "*********\n",
      "**********\n"
     ]
    }
   ],
   "source": [
    "n = 10 \n",
    "for index in range (0, n) : \n",
    "        if index <= n:\n",
    "                print('*' * (index + 1))\n"
   ]
  },
  {
   "cell_type": "code",
   "execution_count": 30,
   "metadata": {},
   "outputs": [
    {
     "name": "stdout",
     "output_type": "stream",
     "text": [
      "*\n",
      "**\n",
      "***\n",
      "****\n",
      "*****\n",
      "******\n",
      "*******\n",
      "********\n",
      "*********\n",
      "**********\n"
     ]
    }
   ],
   "source": [
    "# 강사님 코드\n",
    "for count in range (1, 11):\n",
    "    print(\"*\" * count)"
   ]
  },
  {
   "cell_type": "code",
   "execution_count": 33,
   "metadata": {},
   "outputs": [
    {
     "name": "stdout",
     "output_type": "stream",
     "text": [
      "**********\n",
      "*********\n",
      "********\n",
      "*******\n",
      "******\n",
      "*****\n",
      "****\n",
      "***\n",
      "**\n",
      "*\n"
     ]
    }
   ],
   "source": [
    "n = 10 \n",
    "for index in range (0, n) : \n",
    "        if index <= n:\n",
    "                print('*' * (n - index))"
   ]
  },
  {
   "cell_type": "code",
   "execution_count": 34,
   "metadata": {},
   "outputs": [
    {
     "name": "stdout",
     "output_type": "stream",
     "text": [
      "**********\n",
      "*********\n",
      "********\n",
      "*******\n",
      "******\n",
      "*****\n",
      "****\n",
      "***\n",
      "**\n",
      "*\n"
     ]
    }
   ],
   "source": [
    "# 강사님 코드\n",
    "for count in range (10, 0 ,-1) :\n",
    "    print(\"*\" * count)"
   ]
  },
  {
   "cell_type": "code",
   "execution_count": 37,
   "metadata": {},
   "outputs": [
    {
     "name": "stdout",
     "output_type": "stream",
     "text": [
      "*\n",
      "**\n",
      "***\n",
      "****\n",
      "*****\n",
      "******\n",
      "*******\n",
      "********\n",
      "*********\n",
      "**********\n",
      "*********\n",
      "********\n",
      "*******\n",
      "******\n",
      "*****\n",
      "****\n",
      "***\n",
      "**\n",
      "*\n"
     ]
    }
   ],
   "source": [
    "n = 10\n",
    "for index in range (1, n * 2) :\n",
    "    if index <= n :\n",
    "        print('*' * index )\n",
    "    else : \n",
    "        print('*' * (n * 2 - index))"
   ]
  },
  {
   "cell_type": "code",
   "execution_count": 39,
   "metadata": {},
   "outputs": [
    {
     "name": "stdout",
     "output_type": "stream",
     "text": [
      "*\n",
      "**\n",
      "***\n",
      "****\n",
      "*****\n",
      "******\n",
      "*******\n",
      "********\n",
      "*********\n",
      "**********\n",
      "*********\n",
      "********\n",
      "*******\n",
      "******\n",
      "*****\n",
      "****\n",
      "***\n",
      "**\n",
      "*\n"
     ]
    }
   ],
   "source": [
    " # 강사님 코드\n",
    "for count in range(1, 20) :\n",
    "    if count <= 10 :\n",
    "        print(\"*\" * count)\n",
    "    else :\n",
    "        print(\"*\" * (20 - count))"
   ]
  },
  {
   "cell_type": "code",
   "execution_count": 69,
   "metadata": {},
   "outputs": [
    {
     "name": "stdout",
     "output_type": "stream",
     "text": [
      "      *\n",
      "     ***\n",
      "    *****\n",
      "   *******\n",
      "  *********\n",
      " ***********\n",
      "*************\n",
      " ***********\n",
      "  *********\n",
      "   *******\n",
      "    *****\n",
      "     ***\n",
      "      *\n"
     ]
    }
   ],
   "source": [
    "for index in range(1, 8):\n",
    "    for blank in range(7 - index):\n",
    "        print(\" \", end=\"\")\n",
    "    for star in range(1, index * 2):\n",
    "        print(\"*\", end=\"\")\n",
    "    print()\n",
    "for index in range(6, 0, -1):\n",
    "    for blank in range(7 - index):\n",
    "        print(\" \", end=\"\")\n",
    "    for star in range(1, index * 2):\n",
    "        print(\"*\", end=\"\")\n",
    "    print()"
   ]
  },
  {
   "cell_type": "code",
   "execution_count": 80,
   "metadata": {},
   "outputs": [
    {
     "name": "stdout",
     "output_type": "stream",
     "text": [
      "     *     \n",
      "    ***    \n",
      "   *****   \n",
      "  *******  \n",
      " ********* \n",
      "***********\n",
      " ********* \n",
      "  *******  \n",
      "   *****   \n",
      "    ***    \n",
      "     *     \n"
     ]
    }
   ],
   "source": [
    "# 강사님 코드\n",
    "for count in range(1, 12) :\n",
    "    star = \"*\"\n",
    "    if count <= 6:\n",
    "        star = \"*\" * (count * 2 - 1)\n",
    "    else :\n",
    "        star =  \"*\" * ((12- count) * 2 - 1)\n",
    "    print(f'{star:^11}')"
   ]
  },
  {
   "cell_type": "code",
   "execution_count": null,
   "metadata": {},
   "outputs": [],
   "source": []
  },
  {
   "cell_type": "code",
   "execution_count": null,
   "metadata": {},
   "outputs": [],
   "source": []
  }
 ],
 "metadata": {
  "kernelspec": {
   "display_name": "Python 3",
   "language": "python",
   "name": "python3"
  },
  "language_info": {
   "codemirror_mode": {
    "name": "ipython",
    "version": 3
   },
   "file_extension": ".py",
   "mimetype": "text/x-python",
   "name": "python",
   "nbconvert_exporter": "python",
   "pygments_lexer": "ipython3",
   "version": "3.12.2"
  }
 },
 "nbformat": 4,
 "nbformat_minor": 2
}
